{
 "cells": [
  {
   "cell_type": "code",
   "metadata": {},
   "outputs": [],
   "source": [
    "a = \"넷플릭스보면서 엽떡에 우동사리 추가해서 냠냠하고 후식으로 포카칩 때리고 자고 싶당\""
   ]
  },
  {
   "cell_type": "markdown",
   "metadata": {},
   "source": [
    "## Komoran"
   ]
  },
  {
   "cell_type": "code",
   "metadata": {},
   "outputs": [],
   "source": [
    "from konlpy.tag import Komoran"
   ]
  },
  {
   "cell_type": "code",
   "metadata": {},
   "outputs": [],
   "source": [
    "komoran = Komoran()"
   ]
  },
  {
   "cell_type": "code",
   "metadata": {},
   "outputs": [
    {
     "name": "stdout",
     "output_type": "stream",
     "text": [
      "['넷플릭스', '보', '면서', '엽', '떡', '에', '우동', '사리', '추가', '하', '아서', '냠냠', '하', '고', '후식', '으로', '포', '카', '칩', '때리', '고', '자', '고', '싶', '다고', '항']\n",
      "['넷플릭스', '엽', '떡', '우동', '사리', '추가', '후식', '포', '카', '칩', '항']\n",
      "[('넷플릭스', 'NNP'), ('보', 'VV'), ('면서', 'EC'), ('엽', 'NNG'), ('떡', 'NNG'), ('에', 'JKB'), ('우동', 'NNP'), ('사리', 'NNP'), ('추가', 'NNG'), ('하', 'XSV'), ('아서', 'EC'), ('냠냠', 'MAG'), ('하', 'XSV'), ('고', 'EC'), ('후식', 'NNP'), ('으로', 'JKB'), ('포', 'NNG'), ('카', 'NNP'), ('칩', 'NNG'), ('때리', 'VV'), ('고', 'EC'), ('자', 'VV'), ('고', 'EC'), ('싶', 'VX'), ('다고', 'EC'), ('항', 'NNG')]\n"
     ]
    }
   ],
   "source": [
    "print(komoran.morphs(a))\n",
    "print(komoran.nouns(a))\n",
    "print(komoran.pos(a))"
   ]
  },
  {
   "cell_type": "markdown",
   "metadata": {},
   "source": [
    "## Hannanum"
   ]
  },
  {
   "cell_type": "code",
   "metadata": {},
   "outputs": [],
   "source": [
    "from konlpy.tag import Hannanum"
   ]
  },
  {
   "cell_type": "code",
   "metadata": {},
   "outputs": [],
   "source": [
    "hannanum = Hannanum()"
   ]
  },
  {
   "cell_type": "code",
   "metadata": {},
   "outputs": [
    {
     "name": "stdout",
     "output_type": "stream",
     "text": [
      "[[[('넷플릭스보', 'ncn'), ('이', 'jp'), ('면서', 'ecc')], [('넷플릭스보', 'ncn'), ('이', 'jp'), ('면서', 'ecs')], [('넷플릭스보', 'ncn'), ('이', 'jp'), ('면서', 'ecc')], [('넷플릭스보', 'ncn'), ('이', 'jp'), ('면서', 'ecs')], [('넷플릭스보면', 'ncn'), ('서', 'jca')], [('넷플릭스보면서', 'ncn')], [('넷플릭스보', 'nqq'), ('이', 'jp'), ('면서', 'ecc')], [('넷플릭스보', 'nqq'), ('이', 'jp'), ('면서', 'ecs')], [('넷플릭스보', 'nqq'), ('이', 'jp'), ('면서', 'ecc')], [('넷플릭스보', 'nqq'), ('이', 'jp'), ('면서', 'ecs')], [('넷플릭스보면', 'nqq'), ('서', 'jca')], [('넷플릭스보면서', 'nqq')]], [[('엽떡', 'ncn'), ('에', 'jca')], [('엽떡에', 'ncn')], [('엽떡', 'nqq'), ('에', 'jca')], [('엽떡에', 'nqq')]], [[('우동', 'ncn'), ('사리', 'ncn')]], [[('추가', 'ncpa'), ('해서', 'ncn')], [('추가', 'ncpa'), ('해', 'ncn'), ('서', 'jca')], [('추가', 'ncpa'), ('하', 'xsva'), ('어서', 'ecs')], [('추가', 'ncpa'), ('하', 'xsva'), ('어서', 'ecx')], [('추가', 'ncpa'), ('하', 'xsva'), ('어서', 'ef')], [('추가', 'ncpa'), ('하', 'xsva'), ('어서', 'ep'), ('어', 'ecs')], [('추가', 'ncpa'), ('하', 'xsva'), ('어서', 'ep'), ('어', 'ecx')], [('추가', 'ncpa'), ('하', 'xsva'), ('어서', 'ep'), ('어', 'ef')]], [[('냠냠', 'ncn'), ('하고', 'jcj')], [('냠냠', 'ncn'), ('하고', 'jct')], [('냠냠하', 'ncn'), ('고', 'jcj')], [('냠냠하', 'ncn'), ('이', 'jp'), ('고', 'ecc')], [('냠냠하', 'ncn'), ('이', 'jp'), ('고', 'ecs')], [('냠냠하', 'ncn'), ('이', 'jp'), ('고', 'ecx')], [('냠냠하고', 'ncn')], [('냠냠', 'nqq'), ('하고', 'jcj')], [('냠냠', 'nqq'), ('하고', 'jct')], [('냠냠하', 'nqq'), ('고', 'jcj')], [('냠냠하', 'nqq'), ('이', 'jp'), ('고', 'ecc')], [('냠냠하', 'nqq'), ('이', 'jp'), ('고', 'ecs')], [('냠냠하', 'nqq'), ('이', 'jp'), ('고', 'ecx')], [('냠냠하고', 'nqq')]], [[('후', 'ncn'), ('식', 'xsncc'), ('으로', 'jca')]], [[('포카', 'ncn'), ('칩', 'ncn')]], [[('때리', 'pvg'), ('고', 'ecc')], [('때리', 'pvg'), ('고', 'ecs')], [('때리', 'pvg'), ('고', 'ecx')], [('때', 'nbn'), ('이', 'jp'), ('리', 'ef'), ('고', 'jcr')], [('때', 'nbn'), ('이', 'jp'), ('리', 'ep'), ('고', 'ecc')], [('때', 'nbn'), ('이', 'jp'), ('리', 'ep'), ('고', 'ecs')], [('때', 'nbn'), ('이', 'jp'), ('리', 'ep'), ('고', 'ecx')], [('때', 'ncn'), ('이', 'jp'), ('리', 'ef'), ('고', 'jcr')], [('때', 'ncn'), ('이', 'jp'), ('리', 'ep'), ('고', 'ecc')], [('때', 'ncn'), ('이', 'jp'), ('리', 'ep'), ('고', 'ecs')], [('때', 'ncn'), ('이', 'jp'), ('리', 'ep'), ('고', 'ecx')], [('때', 'pvg'), ('리', 'ef'), ('고', 'jcr')], [('때', 'pvg'), ('리', 'ep'), ('고', 'ecc')], [('때', 'pvg'), ('리', 'ep'), ('고', 'ecs')], [('때', 'pvg'), ('리', 'ep'), ('고', 'ecx')]], [[('자고', 'ncn')], [('자', 'nbn'), ('고', 'jcj')], [('자', 'nbn'), ('이', 'jp'), ('고', 'ecc')], [('자', 'nbn'), ('이', 'jp'), ('고', 'ecs')], [('자', 'nbn'), ('이', 'jp'), ('고', 'ecx')], [('자', 'nbu'), ('고', 'jcj')], [('자', 'nbu'), ('이', 'jp'), ('고', 'ecc')], [('자', 'nbu'), ('이', 'jp'), ('고', 'ecs')], [('자', 'nbu'), ('이', 'jp'), ('고', 'ecx')], [('자', 'ncn'), ('고', 'jcj')], [('자', 'ncn'), ('이', 'jp'), ('고', 'ecc')], [('자', 'ncn'), ('이', 'jp'), ('고', 'ecs')], [('자', 'ncn'), ('이', 'jp'), ('고', 'ecx')], [('자', 'pvg'), ('고', 'ecc')], [('자', 'pvg'), ('고', 'ecs')], [('자', 'pvg'), ('고', 'ecx')], [('자', 'pvg'), ('아', 'ef'), ('고', 'jcr')]], [[('싶당', 'ncn')], [('싶당', 'nqq')]]]\n",
      "['넷플릭스보', '이', '면서', '엽떡', '에', '우동사리', '추가해서', '냠냠하', '이', '고', '후', '식', '으로', '포카칩', '때', '이', '리', '고', '자', '고', '싶당']\n",
      "[('넷플릭스보', 'N'), ('이', 'J'), ('면서', 'E'), ('엽떡', 'N'), ('에', 'J'), ('우동사리', 'N'), ('추가해서', 'N'), ('냠냠하', 'N'), ('이', 'J'), ('고', 'E'), ('후', 'N'), ('식', 'X'), ('으로', 'J'), ('포카칩', 'N'), ('때', 'N'), ('이', 'J'), ('리', 'E'), ('고', 'J'), ('자', 'P'), ('고', 'E'), ('싶당', 'N')]\n"
     ]
    }
   ],
   "source": [
    "print(hannanum.analyze(a))\n",
    "print(hannanum.morphs(a))\n",
    "print(hannanum.pos(a))"
   ]
  },
  {
   "cell_type": "markdown",
   "metadata": {},
   "source": [
    "## Kkma"
   ]
  },
  {
   "cell_type": "code",
   "metadata": {},
   "outputs": [],
   "source": [
    "from konlpy.tag import Kkma"
   ]
  },
  {
   "cell_type": "code",
   "metadata": {},
   "outputs": [],
   "source": [
    "kkma = Kkma()"
   ]
  },
  {
   "cell_type": "code",
   "metadata": {},
   "outputs": [
    {
     "name": "stdout",
     "output_type": "stream",
     "text": [
      "['넷', '플릭스', '보', '면서', '엽', '떡', '에', '우동', '사리', '추가', '하', '어서', '냠냠', '하', '고', '후식', '으로', '포', '카', '칩', '때리', '고', '자', '고', '싶', '다']\n",
      "['넷', '넷플릭스', '플릭스', '엽', '엽떡', '떡', '우동', '우동사리', '사리', '추가', '후식', '포', '포카칩', '카', '칩']\n",
      "['넷 플릭스 보면서 엽 떡에 우동 사리 추가해서 냠냠 하고 후식으로 포 카 칩 때리고 자고 싶당']\n"
     ]
    }
   ],
   "source": [
    "print(kkma.morphs(a))\n",
    "print(kkma.nouns(a))\n",
    "print(kkma.sentences(a))"
   ]
  },
  {
   "cell_type": "markdown",
   "metadata": {},
   "source": [
    "## Twitter"
   ]
  },
  {
   "cell_type": "markdown",
   "metadata": {},
   "source": [
    "- Noun: 명사\n",
    "- Verb: 동사\n",
    "- Adjective: 형용사\n",
    "- Determiner: 관형사\n",
    "- Adverb: 부사\n",
    "- Conjunction: 접속사\n",
    "- Exclamation: 감탄사\n",
    "- Josa: 조사"
   ]
  },
  {
   "cell_type": "code",
   "metadata": {},
   "outputs": [],
   "source": [
    "from konlpy.tag import Twitter"
   ]
  },
  {
   "cell_type": "code",
   "metadata": {},
   "outputs": [
    {
     "name": "stderr",
     "output_type": "stream",
     "text": [
      "/home/lab543/.local/lib/python3.6/site-packages/konlpy/tag/_okt.py:16: UserWarning: \"Twitter\" has changed to \"Okt\" since KoNLPy v0.4.5.\n",
      "  warn('\"Twitter\" has changed to \"Okt\" since KoNLPy v0.4.5.')\n"
     ]
    }
   ],
   "source": [
    "twitter = Twitter()"
   ]
  },
  {
   "cell_type": "code",
   "metadata": {},
   "outputs": [
    {
     "name": "stdout",
     "output_type": "stream",
     "text": [
      "['넷플릭스', '보면서', '엽떡', '에', '우동', '사리', '추가', '해서', '냠냠', '하고', '후식', '으로', '포카칩', '때리고', '자고', '싶당']\n",
      "['넷플릭스', '엽떡', '우동', '사리', '추가', '후식', '포카칩', '자고']\n",
      "['넷플릭스', '엽떡', '우동사리', '우동사리 추가', '후식', '포카칩', '자고', '우동', '사리', '추가']\n"
     ]
    }
   ],
   "source": [
    "print(twitter.morphs(a))\n",
    "print(twitter.nouns(a))\n",
    "print(twitter.phrases(a))"
   ]
  },
  {
   "cell_type": "code",
   "metadata": {},
   "outputs": [
    {
     "name": "stdout",
     "output_type": "stream",
     "text": [
      "[('넷플릭스', 'Noun'), ('보면서', 'Verb'), ('엽떡', 'Noun'), ('에', 'Josa'), ('우동', 'Noun'), ('사리', 'Noun'), ('추가', 'Noun'), ('해서', 'Verb'), ('냠냠', 'Adverb'), ('하고', 'Verb'), ('후식', 'Noun'), ('으로', 'Josa'), ('포카칩', 'Noun'), ('때리고', 'Verb'), ('자고', 'Noun'), ('싶당', 'Verb')]\n",
      "[('넷플릭스', 'Noun'), ('보면서', 'Verb'), ('엽떡', 'Noun'), ('에', 'Josa'), ('우동', 'Noun'), ('사리', 'Noun'), ('추가', 'Noun'), ('해서', 'Verb'), ('냠냠', 'Adverb'), ('하고', 'Verb'), ('후식', 'Noun'), ('으로', 'Josa'), ('포카칩', 'Noun'), ('때리고', 'Verb'), ('자고', 'Noun'), ('싶당', 'Verb')]\n",
      "[('넷플릭스', 'Noun'), ('보다', 'Verb'), ('엽떡', 'Noun'), ('에', 'Josa'), ('우동', 'Noun'), ('사리', 'Noun'), ('추가', 'Noun'), ('하다', 'Verb'), ('냠냠', 'Adverb'), ('하다', 'Verb'), ('후식', 'Noun'), ('으로', 'Josa'), ('포카칩', 'Noun'), ('때리다', 'Verb'), ('자고', 'Noun'), ('싶다', 'Verb')]\n"
     ]
    }
   ],
   "source": [
    "print(twitter.pos(a))\n",
    "print(twitter.pos(a, norm=True))\n",
    "print(twitter.pos(a, norm=True, stem=True))"
   ]
  },
  {
   "cell_type": "markdown",
   "metadata": {},
   "source": [
    "## Mecab"
   ]
  },
  {
   "cell_type": "code",
   "metadata": {},
   "outputs": [],
   "source": [
    "from konlpy.tag import Mecab"
   ]
  },
  {
   "cell_type": "code",
   "metadata": {},
   "outputs": [],
   "source": [
    "mecab = Mecab()"
   ]
  },
  {
   "cell_type": "code",
   "metadata": {},
   "outputs": [
    {
     "name": "stdout",
     "output_type": "stream",
     "text": [
      "['넷플릭스', '보', '면서', '엽', '떡', '에', '우동', '사리', '추가', '해서', '냠냠', '하', '고', '후식', '으로', '포카', '칩', '때리', '고', '자', '고', '싶', '당']\n",
      "['넷플릭스', '엽', '떡', '우동', '사리', '추가', '냠냠', '후식', '포카', '칩']\n",
      "[('넷플릭스', 'NNP'), ('보', 'VV'), ('면서', 'EC'), ('엽', 'NNG'), ('떡', 'NNG'), ('에', 'JKB'), ('우동', 'NNG'), ('사리', 'NNG'), ('추가', 'NNG'), ('해서', 'XSV+EC'), ('냠냠', 'NNG'), ('하', 'XSV'), ('고', 'EC'), ('후식', 'NNG'), ('으로', 'JKB'), ('포카', 'NNP'), ('칩', 'NNG'), ('때리', 'VV'), ('고', 'EC'), ('자', 'VV'), ('고', 'EC'), ('싶', 'VX'), ('당', 'EF')]\n"
     ]
    }
   ],
   "source": [
    "print(mecab.morphs(a))\n",
    "print(mecab.nouns(a))\n",
    "print(mecab.pos(a))"
   ]
  }
 ],
 "metadata": {
  "kernelspec": {
   "display_name": "Python 3",
   "language": "python",
   "name": "python3"
  },
  "language_info": {
   "codemirror_mode": {
    "name": "ipython",
    "version": 3
   },
   "file_extension": ".py",
   "mimetype": "text/x-python",
   "name": "python",
   "nbconvert_exporter": "python",
   "pygments_lexer": "ipython3",
   "version": "3.6.9"
  }
 },
 "nbformat": 4,
 "nbformat_minor": 2
}
