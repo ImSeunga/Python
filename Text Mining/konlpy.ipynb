{
 "cells": [
  {
   "cell_type": "code",
   "execution_count": 4,
   "metadata": {},
   "outputs": [],
   "source": [
    "a = \"졸려 죽겠다 집 가고 싶다ㅠㅠ 집가서 넷플릭스보면서 포카칩 먹고 자고 싶당\""
   ]
  },
  {
   "cell_type": "markdown",
   "metadata": {},
   "source": [
    "## Komoran"
   ]
  },
  {
   "cell_type": "code",
   "execution_count": 5,
   "metadata": {},
   "outputs": [],
   "source": [
    "from konlpy.tag import Komoran"
   ]
  },
  {
   "cell_type": "code",
   "execution_count": 6,
   "metadata": {},
   "outputs": [],
   "source": [
    "komoran = Komoran()"
   ]
  },
  {
   "cell_type": "code",
   "execution_count": 7,
   "metadata": {},
   "outputs": [
    {
     "name": "stdout",
     "output_type": "stream",
     "text": [
      "['졸', '려', '죽', '겠', '다', '집', '가', '고', '싶다ㅠㅠ', '집', '가', '아서', '넷플릭스', '보', '면서', '포', '카', '칩', '먹', '고', '자', '고', '싶', '다고', '항']\n",
      "['집', '집', '넷플릭스', '포', '카', '칩', '항']\n",
      "[('졸', 'VV'), ('려', 'EC'), ('죽', 'VV'), ('겠', 'EP'), ('다', 'EC'), ('집', 'NNG'), ('가', 'VV'), ('고', 'EC'), ('싶다ㅠㅠ', 'NA'), ('집', 'NNG'), ('가', 'VV'), ('아서', 'EC'), ('넷플릭스', 'NNP'), ('보', 'VV'), ('면서', 'EC'), ('포', 'NNG'), ('카', 'NNP'), ('칩', 'NNG'), ('먹', 'VV'), ('고', 'EC'), ('자', 'VV'), ('고', 'EC'), ('싶', 'VX'), ('다고', 'EC'), ('항', 'NNG')]\n"
     ]
    }
   ],
   "source": [
    "print(komoran.morphs(a))\n",
    "print(komoran.nouns(a))\n",
    "print(komoran.pos(a))"
   ]
  },
  {
   "cell_type": "markdown",
   "metadata": {},
   "source": [
    "## Hannanum"
   ]
  },
  {
   "cell_type": "code",
   "execution_count": 8,
   "metadata": {},
   "outputs": [],
   "source": [
    "from konlpy.tag import Hannanum"
   ]
  },
  {
   "cell_type": "code",
   "execution_count": 9,
   "metadata": {},
   "outputs": [],
   "source": [
    "hannanum = Hannanum()"
   ]
  },
  {
   "cell_type": "code",
   "execution_count": 10,
   "metadata": {},
   "outputs": [
    {
     "name": "stdout",
     "output_type": "stream",
     "text": [
      "[[[('졸', 'pvg'), ('려', 'ecs')], [('졸', 'pvg'), ('려', 'ecx')], [('졸', 'pvg'), ('리', 'ep'), ('어', 'ecs')], [('졸', 'pvg'), ('리', 'ep'), ('어', 'ecx')], [('졸', 'pvg'), ('리', 'ep'), ('어', 'ef')], [('졸리', 'pvg'), ('어', 'ecs')], [('졸리', 'pvg'), ('어', 'ecx')], [('졸리', 'pvg'), ('어', 'ef')]], [[('죽', 'pvg'), ('겠', 'ep'), ('다', 'ef')]], [[('집', 'ncn')]], [[('가', 'pvg'), ('고', 'ecc')], [('가', 'pvg'), ('고', 'ecs')], [('가', 'pvg'), ('고', 'ecx')], [('가', 'px'), ('고', 'ecc')], [('가', 'px'), ('고', 'ecs')], [('가', 'px'), ('고', 'ecx')], [('가', 'pvg'), ('아', 'ef'), ('고', 'jcr')], [('가', 'px'), ('아', 'ef'), ('고', 'jcr')]], [[('싶다ㅠㅠ', 'ncn')], [('싶다ㅠㅠ', 'nqq')]], [[('집가', 'ncn'), ('서', 'jca')], [('집가서', 'ncn')], [('집가', 'nqq'), ('서', 'jca')], [('집가서', 'nqq')]], [[('넷플릭스보', 'ncn'), ('이', 'jp'), ('면서', 'ecc')], [('넷플릭스보', 'ncn'), ('이', 'jp'), ('면서', 'ecs')], [('넷플릭스보', 'ncn'), ('이', 'jp'), ('면서', 'ecc')], [('넷플릭스보', 'ncn'), ('이', 'jp'), ('면서', 'ecs')], [('넷플릭스보면', 'ncn'), ('서', 'jca')], [('넷플릭스보면서', 'ncn')], [('넷플릭스보', 'nqq'), ('이', 'jp'), ('면서', 'ecc')], [('넷플릭스보', 'nqq'), ('이', 'jp'), ('면서', 'ecs')], [('넷플릭스보', 'nqq'), ('이', 'jp'), ('면서', 'ecc')], [('넷플릭스보', 'nqq'), ('이', 'jp'), ('면서', 'ecs')], [('넷플릭스보면', 'nqq'), ('서', 'jca')], [('넷플릭스보면서', 'nqq')]], [[('포카', 'ncn'), ('칩', 'ncn')]], [[('먹', 'ncn'), ('고', 'jcj')], [('먹', 'pvg'), ('고', 'ecc')], [('먹', 'pvg'), ('고', 'ecs')], [('먹', 'pvg'), ('고', 'ecx')]], [[('자고', 'ncn')], [('자', 'nbn'), ('고', 'jcj')], [('자', 'nbn'), ('이', 'jp'), ('고', 'ecc')], [('자', 'nbn'), ('이', 'jp'), ('고', 'ecs')], [('자', 'nbn'), ('이', 'jp'), ('고', 'ecx')], [('자', 'nbu'), ('고', 'jcj')], [('자', 'nbu'), ('이', 'jp'), ('고', 'ecc')], [('자', 'nbu'), ('이', 'jp'), ('고', 'ecs')], [('자', 'nbu'), ('이', 'jp'), ('고', 'ecx')], [('자', 'ncn'), ('고', 'jcj')], [('자', 'ncn'), ('이', 'jp'), ('고', 'ecc')], [('자', 'ncn'), ('이', 'jp'), ('고', 'ecs')], [('자', 'ncn'), ('이', 'jp'), ('고', 'ecx')], [('자', 'pvg'), ('고', 'ecc')], [('자', 'pvg'), ('고', 'ecs')], [('자', 'pvg'), ('고', 'ecx')], [('자', 'pvg'), ('아', 'ef'), ('고', 'jcr')]], [[('싶당', 'ncn')], [('싶당', 'nqq')]]]\n",
      "['졸리', '어', '죽', '겠다', '집', '가', '고', '싶다ㅠㅠ', '집가서', '넷플릭스보', '이', '면서', '포카칩', '먹', '고', '자', '고', '싶당']\n",
      "[('졸리', 'P'), ('어', 'E'), ('죽', 'P'), ('겠다', 'E'), ('집', 'N'), ('가', 'P'), ('고', 'E'), ('싶다ㅠㅠ', 'N'), ('집가서', 'N'), ('넷플릭스보', 'N'), ('이', 'J'), ('면서', 'E'), ('포카칩', 'N'), ('먹', 'P'), ('고', 'E'), ('자', 'P'), ('고', 'E'), ('싶당', 'N')]\n"
     ]
    }
   ],
   "source": [
    "print(hannanum.analyze(a))\n",
    "print(hannanum.morphs(a))\n",
    "print(hannanum.pos(a))"
   ]
  },
  {
   "cell_type": "markdown",
   "metadata": {},
   "source": [
    "## Kkma"
   ]
  },
  {
   "cell_type": "code",
   "execution_count": 11,
   "metadata": {},
   "outputs": [],
   "source": [
    "from konlpy.tag import Kkma"
   ]
  },
  {
   "cell_type": "code",
   "execution_count": 12,
   "metadata": {},
   "outputs": [],
   "source": [
    "kkma = Kkma()"
   ]
  },
  {
   "cell_type": "code",
   "execution_count": 13,
   "metadata": {},
   "outputs": [
    {
     "name": "stdout",
     "output_type": "stream",
     "text": [
      "['졸리', '어', '죽', '겠', '다', '집', '가', '고', '싶', '다', 'ㅠㅠ', '집', '가', '아서', '넷', '플릭스', '보', '면서', '포', '카', '칩', '먹', '고', '자', '고', '싶', '다']\n",
      "['집', '넷', '넷플릭스', '플릭스', '포', '포카칩', '카', '칩']\n",
      "['졸려 죽겠다 집 가고 싶다', 'ㅠㅠ 집 가서 넷 플릭스 보면서 포 카 칩 먹고 자고 싶당']\n"
     ]
    }
   ],
   "source": [
    "print(kkma.morphs(a))\n",
    "print(kkma.nouns(a))\n",
    "print(kkma.sentences(a))"
   ]
  },
  {
   "cell_type": "markdown",
   "metadata": {},
   "source": [
    "## Twitter"
   ]
  },
  {
   "cell_type": "markdown",
   "metadata": {},
   "source": [
    "- Noun: 명사\n",
    "- Verb: 동사\n",
    "- Adjective: 형용사\n",
    "- Determiner: 관형사\n",
    "- Adverb: 부사\n",
    "- Conjunction: 접속사\n",
    "- Exclamation: 감탄사\n",
    "- Josa: 조사"
   ]
  },
  {
   "cell_type": "code",
   "execution_count": 17,
   "metadata": {},
   "outputs": [],
   "source": [
    "from konlpy.tag import Twitter"
   ]
  },
  {
   "cell_type": "code",
   "execution_count": 18,
   "metadata": {},
   "outputs": [],
   "source": [
    "twitter = Twitter()"
   ]
  },
  {
   "cell_type": "code",
   "execution_count": 19,
   "metadata": {},
   "outputs": [
    {
     "name": "stdout",
     "output_type": "stream",
     "text": [
      "['졸려', '죽겠다', '집', '가고', '싶다', 'ㅠㅠ', '집가서', '넷플릭스', '보면서', '포카칩', '먹고', '자고', '싶당']\n",
      "['집', '넷플릭스', '포카칩', '자고']\n",
      "['넷플릭스', '포카칩', '자고']\n"
     ]
    }
   ],
   "source": [
    "print(twitter.morphs(a))\n",
    "print(twitter.nouns(a))\n",
    "print(twitter.phrases(a))"
   ]
  },
  {
   "cell_type": "code",
   "execution_count": 20,
   "metadata": {},
   "outputs": [
    {
     "name": "stdout",
     "output_type": "stream",
     "text": [
      "[('졸려', 'Verb'), ('죽겠다', 'Verb'), ('집', 'Noun'), ('가고', 'Verb'), ('싶다', 'Verb'), ('ㅠㅠ', 'KoreanParticle'), ('집가서', 'Verb'), ('넷플릭스', 'Noun'), ('보면서', 'Verb'), ('포카칩', 'Noun'), ('먹고', 'Verb'), ('자고', 'Noun'), ('싶당', 'Verb')]\n",
      "[('졸려', 'Verb'), ('죽겠다', 'Verb'), ('집', 'Noun'), ('가고', 'Verb'), ('싶다', 'Verb'), ('ㅠㅠ', 'KoreanParticle'), ('집가서', 'Verb'), ('넷플릭스', 'Noun'), ('보면서', 'Verb'), ('포카칩', 'Noun'), ('먹고', 'Verb'), ('자고', 'Noun'), ('싶당', 'Verb')]\n",
      "[('졸리다', 'Verb'), ('죽다', 'Verb'), ('집', 'Noun'), ('가다', 'Verb'), ('싶다', 'Verb'), ('ㅠㅠ', 'KoreanParticle'), ('지다', 'Verb'), ('넷플릭스', 'Noun'), ('보다', 'Verb'), ('포카칩', 'Noun'), ('먹다', 'Verb'), ('자고', 'Noun'), ('싶다', 'Verb')]\n"
     ]
    }
   ],
   "source": [
    "print(twitter.pos(a))\n",
    "print(twitter.pos(a, norm=True))\n",
    "print(twitter.pos(a, norm=True, stem=True))"
   ]
  },
  {
   "cell_type": "markdown",
   "metadata": {},
   "source": [
    "## Mecab"
   ]
  },
  {
   "cell_type": "code",
   "execution_count": 21,
   "metadata": {},
   "outputs": [],
   "source": [
    "from konlpy.tag import Mecab"
   ]
  },
  {
   "cell_type": "code",
   "execution_count": 22,
   "metadata": {},
   "outputs": [],
   "source": [
    "mecab = Mecab()"
   ]
  },
  {
   "cell_type": "code",
   "execution_count": 23,
   "metadata": {},
   "outputs": [
    {
     "name": "stdout",
     "output_type": "stream",
     "text": [
      "['졸려', '죽', '겠', '다', '집', '가', '고', '싶', '다', 'ㅠㅠ', '집', '가', '서', '넷플릭스', '보', '면서', '포카', '칩', '먹', '고', '자', '고', '싶', '당']\n",
      "['집', '집', '넷플릭스', '포카', '칩']\n",
      "[('졸려', 'VA+EC'), ('죽', 'VV'), ('겠', 'EP'), ('다', 'EC'), ('집', 'NNG'), ('가', 'VV'), ('고', 'EC'), ('싶', 'VX'), ('다', 'EF'), ('ㅠㅠ', 'UNKNOWN'), ('집', 'NNG'), ('가', 'VV'), ('서', 'EC'), ('넷플릭스', 'NNP'), ('보', 'VV'), ('면서', 'EC'), ('포카', 'NNP'), ('칩', 'NNG'), ('먹', 'VV'), ('고', 'EC'), ('자', 'VV'), ('고', 'EC'), ('싶', 'VX'), ('당', 'EF')]\n"
     ]
    }
   ],
   "source": [
    "print(mecab.morphs(a))\n",
    "print(mecab.nouns(a))\n",
    "print(mecab.pos(a))"
   ]
  }
 ],
 "metadata": {
  "kernelspec": {
   "display_name": "Python 3",
   "language": "python",
   "name": "python3"
  },
  "language_info": {
   "codemirror_mode": {
    "name": "ipython",
    "version": 3
   },
   "file_extension": ".py",
   "mimetype": "text/x-python",
   "name": "python",
   "nbconvert_exporter": "python",
   "pygments_lexer": "ipython3",
   "version": "3.6.9"
  }
 },
 "nbformat": 4,
 "nbformat_minor": 2
}
