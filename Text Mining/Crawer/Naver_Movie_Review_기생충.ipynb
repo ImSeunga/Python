{
 "cells": [
  {
   "cell_type": "markdown",
   "metadata": {},
   "source": [
    "# < 네이버 영화 리뷰 크롤링 >  __기생충_"
   ]
  },
  {
   "cell_type": "markdown",
   "metadata": {},
   "source": [
    "## # 1단계: URL 접속하고 파싱 개체 만들기"
   ]
  },
  {
   "cell_type": "code",
   "metadata": {
    "scrolled": false
   },
   "outputs": [],
   "source": [
    "import requests # 페이지 요청 모듈\n",
    "from bs4 import BeautifulSoup # 데이터 파싱할 수 있는 모듈\n",
    "\n",
    "# 영화 리뷰 주소\n",
    "url = \"https://movie.naver.com/movie/bi/mi/pointWriteFormList.nhn?code=161967&type=after&isActualPointWriteExecute=false&isMileageSubscriptionAlready=false&isMileageSubscriptionReject=false&page=\"\n",
    "response = requests.get(url)\n",
    "html = response.text\n",
    "soup = BeautifulSoup(html,'html.parser')"
   ]
  },
  {
   "cell_type": "markdown",
   "metadata": {},
   "source": [
    "## # 2단계: 페이지 개수 구하기"
   ]
  },
  {
   "cell_type": "code",
   "metadata": {},
   "outputs": [
    {
     "name": "stdout",
     "output_type": "stream",
     "text": [
      "3629\n"
     ]
    }
   ],
   "source": [
    "import re\n",
    "\n",
    "count = int(re.sub(\",\",\"\",soup.select(\".total > em\")[0].get_text()))\n",
    "if count%10 !=0:\n",
    "    page = count//10 + 1\n",
    "else:\n",
    "    page = count//10\n",
    "    print(page)"
   ]
  },
  {
   "cell_type": "markdown",
   "metadata": {},
   "source": [
    "## # 3단계: 자료구조를 선언하고 데이터 추가하기"
   ]
  },
  {
   "cell_type": "code",
   "metadata": {},
   "outputs": [
    {
     "name": "stderr",
     "output_type": "stream",
     "text": [
      "Page: 100%|██████████| 3629/3629 [11:33<00:00,  5.23it/s]\n"
     ]
    }
   ],
   "source": [
    "import time\n",
    "from tqdm import tqdm\n",
    "\n",
    "review = list()\n",
    "\n",
    "for p in tqdm(range(1, page+1),desc='Page'):\n",
    "    response = requests.get(url+str(p))\n",
    "    html = response.text\n",
    "    soup = BeautifulSoup(html,'html.parser')\n",
    "    for i in range(10):\n",
    "        date = re.sub(\"\\.\",\"-\",soup.select(\".score_reple > dl > dt > em:nth-of-type(2)\")[i].get_text())\n",
    "        user = soup.select(\".score_reple > dl > dt > em > a > span\")[i].get_text()\n",
    "        comment = soup.select(\".score_reple > p > span\")[i].get_text().strip()\n",
    "        score = soup.select(\".star_score > em\")[i].get_text()\n",
    "        likes = soup.select(\"._sympathyButton > strong\")[i].get_text()\n",
    "        dislikes = soup.select(\"._notSympathyButton > strong\")[i].get_text()\n",
    "        tmp = [date,user,comment,score,likes,dislikes]\n",
    "        if len(tmp)==6:\n",
    "            review.append(tmp)\n",
    "        else:\n",
    "            review.append(\"에러\",\"에러\",\"에러\",\"에러\",\"에러\",\"에러\")"
   ]
  },
  {
   "cell_type": "markdown",
   "metadata": {},
   "source": [
    "## # 4단계: 데이터 확인하기"
   ]
  },
  {
   "cell_type": "code",
   "metadata": {},
   "outputs": [
    {
     "data": {
      "text/plain": [
       "(['2019-05-30 15:58',\n",
       "  'brilliant_AKA_밝음(bril****)',\n",
       "  '비에 젖지 않는 고급 장난감 텐트와, 비에 젖다 못해 잠겨버리는 반지하 가구',\n",
       "  '10',\n",
       "  '28292',\n",
       "  '1485'],\n",
       " 36290)"
      ]
     },
     "metadata": {},
     "output_type": "execute_result"
    }
   ],
   "source": [
    "review[0], len(review)"
   ]
  },
  {
   "cell_type": "markdown",
   "metadata": {},
   "source": [
    "## # 5단계: 데이터 변환"
   ]
  },
  {
   "cell_type": "code",
   "metadata": {
    "scrolled": true
   },
   "outputs": [
    {
     "data": {
      "text/html": [
       "<div>\n",
       "<style scoped>\n",
       "    .dataframe tbody tr th:only-of-type {\n",
       "        vertical-align: middle;\n",
       "    }\n",
       "\n",
       "    .dataframe tbody tr th {\n",
       "        vertical-align: top;\n",
       "    }\n",
       "\n",
       "    .dataframe thead th {\n",
       "        text-align: right;\n",
       "    }\n",
       "</style>\n",
       "<table border=\"1\" class=\"dataframe\">\n",
       "  <thead>\n",
       "    <tr style=\"text-align: right;\">\n",
       "      <th></th>\n",
       "      <th>date</th>\n",
       "      <th>user</th>\n",
       "      <th>comment</th>\n",
       "      <th>score</th>\n",
       "      <th>likes</th>\n",
       "      <th>dislikes</th>\n",
       "    </tr>\n",
       "  </thead>\n",
       "  <tbody>\n",
       "    <tr>\n",
       "      <th>0</th>\n",
       "      <td>2019-05-30 15:58:00</td>\n",
       "      <td>brilliant_AKA_밝음(bril****)</td>\n",
       "      <td>비에 젖지 않는 고급 장난감 텐트와, 비에 젖다 못해 잠겨버리는 반지하 가구</td>\n",
       "      <td>10</td>\n",
       "      <td>28292</td>\n",
       "      <td>1485</td>\n",
       "    </tr>\n",
       "    <tr>\n",
       "      <th>1</th>\n",
       "      <td>2019-05-30 12:25:00</td>\n",
       "      <td>김희정(priv****)</td>\n",
       "      <td>최근 본 영화중 가장 충격적이었음... 근데 보니까 15세말고 19세 걸어야될것같던데..</td>\n",
       "      <td>10</td>\n",
       "      <td>18490</td>\n",
       "      <td>1560</td>\n",
       "    </tr>\n",
       "    <tr>\n",
       "      <th>2</th>\n",
       "      <td>2019-05-30 14:41:00</td>\n",
       "      <td>리오(papi****)</td>\n",
       "      <td>지하철이라는 단어가 언급되는 순간, 대다수의 관객은 자신이 어디에 이입할 지를 안다.</td>\n",
       "      <td>10</td>\n",
       "      <td>17140</td>\n",
       "      <td>1099</td>\n",
       "    </tr>\n",
       "    <tr>\n",
       "      <th>3</th>\n",
       "      <td>2019-05-30 16:28:00</td>\n",
       "      <td>멍뭉이(sumi****)</td>\n",
       "      <td>전 가정부가 집 벨 누를 때 부터 이 영화는 장르가 바뀐다... 역대급 꿀잼영화</td>\n",
       "      <td>10</td>\n",
       "      <td>16716</td>\n",
       "      <td>925</td>\n",
       "    </tr>\n",
       "    <tr>\n",
       "      <th>4</th>\n",
       "      <td>2019-05-30 15:13:00</td>\n",
       "      <td>여행의 발견(riod****)</td>\n",
       "      <td>황금종려상 수상작을 자막 없이 볼 수 있다는 것 자체로 좋다.</td>\n",
       "      <td>10</td>\n",
       "      <td>15732</td>\n",
       "      <td>794</td>\n",
       "    </tr>\n",
       "  </tbody>\n",
       "</table>\n",
       "</div>"
      ],
      "text/plain": [
       "                 date                        user  \\\n",
       "0 2019-05-30 15:58:00  brilliant_AKA_밝음(bril****)   \n",
       "1 2019-05-30 12:25:00               김희정(priv****)   \n",
       "2 2019-05-30 14:41:00                리오(papi****)   \n",
       "3 2019-05-30 16:28:00               멍뭉이(sumi****)   \n",
       "4 2019-05-30 15:13:00            여행의 발견(riod****)   \n",
       "\n",
       "                                             comment score  likes dislikes  \n",
       "0         비에 젖지 않는 고급 장난감 텐트와, 비에 젖다 못해 잠겨버리는 반지하 가구    10  28292     1485  \n",
       "1  최근 본 영화중 가장 충격적이었음... 근데 보니까 15세말고 19세 걸어야될것같던데..    10  18490     1560  \n",
       "2    지하철이라는 단어가 언급되는 순간, 대다수의 관객은 자신이 어디에 이입할 지를 안다.    10  17140     1099  \n",
       "3       전 가정부가 집 벨 누를 때 부터 이 영화는 장르가 바뀐다... 역대급 꿀잼영화    10  16716      925  \n",
       "4                 황금종려상 수상작을 자막 없이 볼 수 있다는 것 자체로 좋다.    10  15732      794  "
      ]
     },
     "metadata": {},
     "output_type": "execute_result"
    }
   ],
   "source": [
    "import pandas as pd\n",
    "\n",
    "df_review = pd.DataFrame(review, columns = ['date','user','comment','score','likes','dislikes'])\n",
    "df_review['date'] = pd.to_datetime(df_review['date'])\n",
    "df_review.head()"
   ]
  },
  {
   "cell_type": "markdown",
   "metadata": {},
   "source": [
    "## # 6단계: 데이터 저장"
   ]
  },
  {
   "cell_type": "code",
   "metadata": {},
   "outputs": [],
   "source": [
    "from datetime import datetime\n",
    "\n",
    "now = datetime.today()\n",
    "str(now.strftime(\"%Y%m%d\"))\n",
    "df_review.to_excel(\"기생충_MovieReview_v1.xlsx\", encoding = 'utf-8')"
   ]
  }
 ],
 "metadata": {
  "kernelspec": {
   "display_name": "Python 3",
   "language": "python",
   "name": "python3"
  },
  "language_info": {
   "codemirror_mode": {
    "name": "ipython",
    "version": 3
   },
   "file_extension": ".py",
   "mimetype": "text/x-python",
   "name": "python",
   "nbconvert_exporter": "python",
   "pygments_lexer": "ipython3",
   "version": "3.6.9"
  }
 },
 "nbformat": 4,
 "nbformat_minor": 2
}
