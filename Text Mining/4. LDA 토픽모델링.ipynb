https://nbviewer.jupyter.org/github/ImSeunga/Python/blob/4fdf9a3bb3cec91a508a000ffd02ca68465dd377/Text%20Mining/4.%20LDA%20%ED%86%A0%ED%94%BD%EB%AA%A8%EB%8D%B8%EB%A7%81.ipynb

{
 "cells": [
  {
   "cell_type": "markdown",
   "metadata": {},
   "source": [
    "# < LDA 토픽모델링 >"
   ]
  },
  {
   "cell_type": "code",
   "execution_count": 1,
   "metadata": {},
   "outputs": [],
   "source": [
    "# 경고 메시지 무시\n",
    "import warnings\n",
    "warnings.filterwarnings(\"ignore\")"
   ]
  },
  {
   "cell_type": "markdown",
   "metadata": {},
   "source": [
    "## 1. 데이터 로드"
   ]
  },
  {
   "cell_type": "code",
   "execution_count": 2,
   "metadata": {},
   "outputs": [
    {
     "data": {
      "text/plain": [
       "[['고급', '장난감', '텐트', '반지하', '가구'],\n",
       " ['최근', '영화', '충격'],\n",
       " ['지하철', '단어', '언급', '순간', '대다수', '관객', '자신', '어디', '이입']]"
      ]
     },
     "execution_count": 2,
     "metadata": {},
     "output_type": "execute_result"
    }
   ],
   "source": [
    "# 분리 구분 기호로 데이터 분리\n",
    "def read_txt(filename, sep=''):\n",
    "    str = ''\n",
    "    file = open(filename, 'r')\n",
    "    str = file.readlines()\n",
    "    for i in range(0,len(str)):\n",
    "        str[i] = str[i].strip().split(sep)\n",
    "    return(str)\n",
    "    file.close()\n",
    "    \n",
    "corpus = read_txt('outputs/corpus.txt',',')\n",
    "corpus[:3]"
   ]
  },
  {
   "cell_type": "markdown",
   "metadata": {},
   "source": [
    "## 2. 단어 정제"
   ]
  },
  {
   "cell_type": "code",
   "execution_count": 3,
   "metadata": {},
   "outputs": [],
   "source": [
    "import re\n",
    "\n",
    "# 바꾸기\n",
    "clean_corpus = [[re.sub('^봉$','봉준호',noun_) for noun_ in nouns] for nouns in corpus]\n",
    "\n",
    "# 제거\n",
    "clean_corpus = [[noun_ for noun_ in nouns if noun_ != \"영화\"] for nouns in clean_corpus]\n",
    "clean_corpus = [[noun_ for noun_ in nouns if noun_ != \"관람객\"] for nouns in clean_corpus]\n",
    "\n",
    "# 불용어 삭제\n",
    "f = open(\"data/stopwords_list.txt\", 'r', encoding='CP949')\n",
    "line = [line.rstrip() for line in f.readlines()]\n",
    "\n",
    "for i in range(len(line)):\n",
    "    clean_corpus = [[noun_ for noun_ in nouns if noun_ != line[i]] for nouns in clean_corpus]"
   ]
  },
  {
   "cell_type": "code",
   "execution_count": 7,
   "metadata": {},
   "outputs": [
    {
     "data": {
      "text/plain": [
       "[['고급', '장난감', '텐트', '반지하', '가구'],\n",
       " ['최근', '충격'],\n",
       " ['지하철', '단어', '언급', '순간', '대다수', '관객', '이입']]"
      ]
     },
     "execution_count": 7,
     "metadata": {},
     "output_type": "execute_result"
    }
   ],
   "source": [
    "clean_corpus[:3]"
   ]
  },
  {
   "cell_type": "markdown",
   "metadata": {},
   "source": [
    "## 3. LDA 토픽 모델링"
   ]
  },
  {
   "cell_type": "markdown",
   "metadata": {},
   "source": [
    "### N-gram 모델 생성"
   ]
  },
  {
   "cell_type": "code",
   "execution_count": 14,
   "metadata": {
    "scrolled": true
   },
   "outputs": [
    {
     "data": {
      "text/plain": [
       "[[(0, 1), (1, 1), (2, 1)],\n",
       " [(3, 1), (4, 1)],\n",
       " [(5, 1), (6, 1), (7, 1), (8, 1), (9, 1), (10, 1), (11, 1)]]"
      ]
     },
     "execution_count": 14,
     "metadata": {},
     "output_type": "execute_result"
    }
   ],
   "source": [
    "# N-gram 생성 람다 함수\n",
    "import gensim\n",
    "bigram = gensim.models.Phrases(clean_corpus)\n",
    "trigram = gensim.models.Phrases(bigram[clean_corpus])\n",
    "bigram_model = gensim.models.phrases.Phraser(bigram)\n",
    "trigram_model = gensim.models.phrases.Phraser(trigram)\n",
    "\n",
    "from gensim import corpora\n",
    "bigram_doc = [bigram_model[nouns] for nouns in clean_corpus]\n",
    "bigram_doc[0]\n",
    "\n",
    "id2word = corpora.Dictionary(bigram_doc)\n",
    "bi_corpus = [id2word.doc2bow(doc) for doc in bigram_doc]\n",
    "bi_corpus[:3]"
   ]
  },
  {
   "cell_type": "markdown",
   "metadata": {},
   "source": [
    "### 최적 모델 선택"
   ]
  },
  {
   "cell_type": "code",
   "execution_count": 16,
   "metadata": {},
   "outputs": [
    {
     "name": "stdout",
     "output_type": "stream",
     "text": [
      "n= 2 Score:  0.1660510241565914\n",
      "n= 3 Score:  0.18542611931908834\n",
      "n= 4 Score:  0.28403492421629767\n",
      "n= 5 Score:  0.3047125178297959\n"
     ]
    }
   ],
   "source": [
    "# 토픽 개수 별 점수\n",
    "from gensim.models import CoherenceModel\n",
    "\n",
    "coherence_score = []\n",
    "\n",
    "for i in range(2,6):\n",
    "    model = gensim.models.ldamodel.LdaModel(corpus = bi_corpus, id2word = id2word, num_topics=i, passes=30, iterations=200)\n",
    "    coherence_model = CoherenceModel(model, texts = bigram_doc, dictionary = id2word, coherence='c_v')\n",
    "    coherence_lda = coherence_model.get_coherence()\n",
    "    print('n=',i,\"Score: \",coherence_lda)\n",
    "    coherence_score.append(coherence_lda)"
   ]
  },
  {
   "cell_type": "code",
   "execution_count": 29,
   "metadata": {},
   "outputs": [
    {
     "data": {
      "image/png": "[encoded data removed]",
      "text/plain": [
       "<Figure size 432x288 with 1 Axes>"
      ]
     },
     "metadata": {
      "needs_background": "light"
     },
     "output_type": "display_data"
    }
   ],
   "source": [
    "import matplotlib.pyplot as plt\n",
    "import numpy as np\n",
    "%matplotlib inline\n",
    "\n",
    "k = []\n",
    "\n",
    "for i in range(2,6):\n",
    "    k.append(i)\n",
    "\n",
    "x = np.array(k)\n",
    "y = np.array(coherence_score)\n",
    "plt.title('Topic Coherence')\n",
    "plt.plot(x,y)\n",
    "plt.xlabel('Number Of Topic')\n",
    "plt.ylabel('Coherence Score')\n",
    "plt.show()"
   ]
  },
  {
   "cell_type": "markdown",
   "metadata": {},
   "source": [
    "가장 높은 점수의 모델 선택"
   ]
  },
  {
   "cell_type": "markdown",
   "metadata": {},
   "source": [
    "### LDA 시각화"
   ]
  },
  {
   "cell_type": "code",
   "execution_count": 31,
   "metadata": {},
   "outputs": [
    {
     "data": {
      "text/plain": [
       "[(1,\n",
       "  '0.072*\"사람\" + 0.031*\"기생충\" + 0.026*\"가난\" + 0.016*\"불편\" + 0.015*\"계획\" + 0.014*\"인간\" + 0.013*\"평점\" + 0.013*\"현실\" + 0.013*\"사회\" + 0.012*\"기생\"'),\n",
       " (0,\n",
       "  '0.047*\"기생충\" + 0.038*\"기분\" + 0.037*\"송강호\" + 0.034*\"가족\" + 0.019*\"배우\" + 0.017*\"감독\" + 0.016*\"완벽\" + 0.015*\"조여정\" + 0.014*\"오랜만\" + 0.014*\"이선균\"'),\n",
       " (4,\n",
       "  '0.083*\"최고\" + 0.045*\"한국\" + 0.044*\"봉준호_감독\" + 0.036*\"냄새\" + 0.030*\"여운\" + 0.026*\"작품\" + 0.024*\"표현\" + 0.021*\"소름\" + 0.016*\"봉준호\" + 0.014*\"대박\"'),\n",
       " (3,\n",
       "  '0.098*\"생각\" + 0.034*\"장면\" + 0.024*\"기대\" + 0.023*\"현실\" + 0.019*\"스토리\" + 0.017*\"처음\" + 0.017*\"연출\" + 0.016*\"마지막\" + 0.016*\"느낌\" + 0.014*\"연기\"'),\n",
       " (2,\n",
       "  '0.051*\"봉준호\" + 0.036*\"재미\" + 0.034*\"충격\" + 0.019*\"필요\" + 0.019*\"장르\" + 0.018*\"내용\" + 0.017*\"이게\" + 0.017*\"작품\" + 0.016*\"이해\" + 0.015*\"천재\"')]"
      ]
     },
     "execution_count": 31,
     "metadata": {},
     "output_type": "execute_result"
    }
   ],
   "source": [
    "# num_topics = : 최적 모델 결과 값 입력\n",
    "new_model = gensim.models.ldamodel.LdaModel(corpus = bi_corpus, id2word=id2word, num_topics=5, passes=30, iterations=200)\n",
    "new_model.print_topics(0)"
   ]
  },
  {
   "cell_type": "code",
   "execution_count": 33,
   "metadata": {},
   "outputs": [
    {
     "data": {
      "text/html": [
       "\n",
       "<link rel=\"stylesheet\" type=\"text/css\" href=\"https://cdn.rawgit.com/bmabey/pyLDAvis/files/ldavis.v1.0.0.css\">\n",
       "\n",
       "\n",
       "<div id=\"ldavis_el35101398895337948489278262519\"></div>\n",
       "<script type=\"text/javascript\">\n",
       "\n",
       "var ldavis_el35101398895337948489278262519_data = {\"mdsDat\": {\"x\": [0.19338251633101908, 0.20431541865042646, -0.20459769990471427, -0.24080366175023316, 0.04770342667350222], \"y\": [-0.18900114962513664, -0.0294964797455166, -0.04310824148274823, -0.07374778933928275, 0.3353536601926843], \"topics\": [1, 2, 3, 4, 5], \"cluster\": [1, 1, 1, 1, 1], \"Freq\": [23.150985717773438, 20.546180725097656, 19.574920654296875, 18.60004425048828, 18.127866744995117]}, \"tinfo\": {\"Category\": [\"Default\", \"Default\", \"Default\", \"Default\", \"Default\", \"Default\", \"Default\", \"Default\", \"Default\", \"Default\", \"Default\", \"Default\", \"Default\", \"Default\", \"Default\", \"Default\", \"Default\", \"Default\", \"Default\", \"Default\", \"Default\", \"Default\", \"Default\", \"Default\", \"Default\", \"Default\", \"Default\", \"Default\", \"Default\", \"Default\", \"Topic1\", \"Topic1\", \"Topic1\", \"Topic1\", \"Topic1\", \"Topic1\", \"Topic1\", \"Topic1\", \"Topic1\", \"Topic1\", \"Topic1\", \"Topic1\", \"Topic1\", \"Topic1\", \"Topic1\", \"Topic1\", \"Topic1\", \"Topic1\", \"Topic1\", \"Topic1\", \"Topic1\", \"Topic1\", \"Topic1\", \"Topic1\", \"Topic1\", \"Topic1\", \"Topic1\", \"Topic1\", \"Topic1\", \"Topic1\", \"Topic1\", \"Topic1\", \"Topic1\", \"Topic1\", \"Topic1\", \"Topic1\", \"Topic1\", \"Topic1\", \"Topic1\", \"Topic1\", \"Topic1\", \"Topic1\", \"Topic1\", \"Topic1\", \"Topic2\", \"Topic2\", \"Topic2\", \"Topic2\", \"Topic2\", \"Topic2\", \"Topic2\", \"Topic2\", \"Topic2\", \"Topic2\", \"Topic2\", \"Topic2\", \"Topic2\", \"Topic2\", \"Topic2\", \"Topic2\", \"Topic2\", \"Topic2\", \"Topic2\", \"Topic2\", \"Topic2\", \"Topic2\", \"Topic2\", \"Topic2\", \"Topic2\", \"Topic2\", \"Topic2\", \"Topic2\", \"Topic2\", \"Topic2\", \"Topic2\", \"Topic2\", \"Topic2\", \"Topic2\", \"Topic2\", \"Topic2\", \"Topic2\", \"Topic2\", \"Topic2\", \"Topic2\", \"Topic2\", \"Topic2\", \"Topic2\", \"Topic3\", \"Topic3\", \"Topic3\", \"Topic3\", \"Topic3\", \"Topic3\", \"Topic3\", \"Topic3\", \"Topic3\", \"Topic3\", \"Topic3\", \"Topic3\", \"Topic3\", \"Topic3\", \"Topic3\", \"Topic3\", \"Topic3\", \"Topic3\", \"Topic3\", \"Topic3\", \"Topic3\", \"Topic3\", \"Topic3\", \"Topic3\", \"Topic3\", \"Topic3\", \"Topic3\", \"Topic3\", \"Topic3\", \"Topic3\", \"Topic3\", \"Topic3\", \"Topic3\", \"Topic3\", \"Topic3\", \"Topic3\", \"Topic3\", \"Topic3\", \"Topic3\", \"Topic3\", \"Topic3\", \"Topic3\", \"Topic4\", \"Topic4\", \"Topic4\", \"Topic4\", \"Topic4\", \"Topic4\", \"Topic4\", \"Topic4\", \"Topic4\", \"Topic4\", \"Topic4\", \"Topic4\", \"Topic4\", \"Topic4\", \"Topic4\", \"Topic4\", \"Topic4\", \"Topic4\", \"Topic4\", \"Topic4\", \"Topic4\", \"Topic4\", \"Topic4\", \"Topic4\", \"Topic4\", \"Topic4\", \"Topic4\", \"Topic4\", \"Topic4\", \"Topic4\", \"Topic4\", \"Topic4\", \"Topic4\", \"Topic4\", \"Topic4\", \"Topic4\", \"Topic4\", \"Topic4\", \"Topic4\", \"Topic5\", \"Topic5\", \"Topic5\", \"Topic5\", \"Topic5\", \"Topic5\", \"Topic5\", \"Topic5\", \"Topic5\", \"Topic5\", \"Topic5\", \"Topic5\", \"Topic5\", \"Topic5\", \"Topic5\", \"Topic5\", \"Topic5\", \"Topic5\", \"Topic5\", \"Topic5\", \"Topic5\", \"Topic5\", \"Topic5\", \"Topic5\", \"Topic5\", \"Topic5\", \"Topic5\", \"Topic5\", \"Topic5\", \"Topic5\", \"Topic5\", \"Topic5\", \"Topic5\", \"Topic5\", \"Topic5\", \"Topic5\", \"Topic5\", \"Topic5\", \"Topic5\", \"Topic5\", \"Topic5\"], \"Freq\": [2592.0, 1709.0, 1613.0, 1668.0, 1519.0, 931.0, 911.0, 815.0, 847.0, 789.0, 901.0, 750.0, 797.0, 717.0, 623.0, 582.0, 635.0, 926.0, 496.0, 439.0, 451.0, 444.0, 396.0, 455.0, 409.0, 440.0, 415.0, 678.0, 654.0, 1111.0, 2591.324951171875, 900.7785034179688, 634.5183715820312, 454.3905944824219, 440.14361572265625, 414.6886291503906, 363.3231201171875, 313.15692138671875, 301.93927001953125, 229.8723602294922, 226.43821716308594, 204.1750946044922, 196.88809204101562, 189.56546020507812, 186.759521484375, 183.2718048095703, 178.0465545654297, 178.0465545654297, 163.2988739013672, 153.945068359375, 143.8336944580078, 134.51881408691406, 127.92736053466797, 120.83960723876953, 119.51336669921875, 114.37644958496094, 112.99098205566406, 112.59416961669922, 111.47908020019531, 107.33816528320312, 496.9881896972656, 339.90863037109375, 412.16717529296875, 606.2135009765625, 244.087158203125, 366.5048522949219, 211.8699188232422, 203.51727294921875, 206.72470092773438, 188.10235595703125, 244.3477325439453, 258.8228454589844, 256.61785888671875, 181.4521484375, 847.0353393554688, 796.7037353515625, 450.731201171875, 444.1563720703125, 408.82696533203125, 361.3193054199219, 336.65289306640625, 302.77447509765625, 246.98536682128906, 244.28468322753906, 221.20469665527344, 193.6521759033203, 192.27304077148438, 176.17723083496094, 165.27166748046875, 149.4484100341797, 133.1012725830078, 124.4227294921875, 124.6068115234375, 122.34822845458984, 119.99311828613281, 119.82704162597656, 113.7177734375, 110.31436157226562, 108.66434478759766, 103.2337646484375, 104.0870132446289, 99.74796295166016, 98.66435241699219, 98.69474792480469, 1196.64013671875, 375.4521484375, 421.2378234863281, 285.6673889160156, 246.2978973388672, 389.0948181152344, 284.6046142578125, 188.2052764892578, 151.72645568847656, 134.20498657226562, 166.73544311523438, 140.20736694335938, 156.77403259277344, 1612.79248046875, 581.8326416015625, 335.08648681640625, 321.36334228515625, 278.1486511230469, 218.43478393554688, 200.22698974609375, 192.92538452148438, 156.90187072753906, 148.63673400878906, 134.9768524169922, 128.61239624023438, 124.88507080078125, 123.29817962646484, 112.50088500976562, 112.1615982055664, 101.22757720947266, 98.41981506347656, 93.65864562988281, 93.58934020996094, 89.27101135253906, 83.55098724365234, 83.18051147460938, 79.681396484375, 77.63302612304688, 76.40335845947266, 72.87605285644531, 70.58503723144531, 68.14265441894531, 66.16836547851562, 170.61671447753906, 300.54931640625, 345.8436279296875, 165.82330322265625, 680.677978515625, 279.4643859863281, 181.1546630859375, 285.8147888183594, 109.78124237060547, 121.19844818115234, 122.1617660522461, 103.6014404296875, 814.7432250976562, 788.4903564453125, 717.029052734375, 395.6089782714844, 334.4075622558594, 314.80157470703125, 295.16778564453125, 287.4732360839844, 252.0816650390625, 245.49313354492188, 148.82461547851562, 146.46348571777344, 136.47840881347656, 133.83824157714844, 126.27426147460938, 125.6972885131836, 116.64643859863281, 101.5238265991211, 99.29663848876953, 98.28688049316406, 97.48007202148438, 91.83073425292969, 84.62813568115234, 75.92347717285156, 72.96379089355469, 68.91490173339844, 68.62892150878906, 65.65150451660156, 64.60214233398438, 63.3571662902832, 986.9237060546875, 227.97406005859375, 180.89366149902344, 350.2101135253906, 93.55945587158203, 203.61109924316406, 99.65631866455078, 120.45201873779297, 97.88215637207031, 1708.8851318359375, 931.1671142578125, 910.2947998046875, 749.4322509765625, 622.9095458984375, 495.8747253417969, 438.566162109375, 282.81756591796875, 262.84130859375, 247.40367126464844, 214.92503356933594, 191.4209747314453, 178.88031005859375, 161.86929321289062, 154.6730499267578, 144.50799560546875, 117.28355407714844, 92.35039520263672, 90.79329681396484, 80.74475860595703, 78.2035140991211, 76.16095733642578, 71.51177978515625, 69.97428894042969, 69.15350341796875, 64.23979187011719, 64.104248046875, 62.70237350463867, 61.62887191772461, 60.98151397705078, 536.4283447265625, 201.6402130126953, 321.7736511230469, 103.27344512939453, 218.8203887939453, 151.1770782470703, 175.57203674316406, 133.33753967285156, 105.04512023925781, 95.8608169555664, 91.73921203613281], \"Term\": [\"\\uc0dd\\uac01\", \"\\ucd5c\\uace0\", \"\\uc0ac\\ub78c\", \"\\uae30\\uc0dd\\ucda9\", \"\\ubd09\\uc900\\ud638\", \"\\ud55c\\uad6d\", \"\\ubd09\\uc900\\ud638_\\uac10\\ub3c5\", \"\\uae30\\ubd84\", \"\\uc7ac\\ubbf8\", \"\\uc1a1\\uac15\\ud638\", \"\\uc7a5\\uba74\", \"\\ub0c4\\uc0c8\", \"\\ucda9\\uaca9\", \"\\uac00\\uc871\", \"\\uc5ec\\uc6b4\", \"\\uac00\\ub09c\", \"\\uae30\\ub300\", \"\\uc791\\ud488\", \"\\ud45c\\ud604\", \"\\uc18c\\ub984\", \"\\ud544\\uc694\", \"\\uc7a5\\ub974\", \"\\ubc30\\uc6b0\", \"\\ucc98\\uc74c\", \"\\uc774\\uac8c\", \"\\uc5f0\\ucd9c\", \"\\ub9c8\\uc9c0\\ub9c9\", \"\\ub0b4\\uc6a9\", \"\\uc2a4\\ud1a0\\ub9ac\", \"\\ud604\\uc2e4\", \"\\uc0dd\\uac01\", \"\\uc7a5\\uba74\", \"\\uae30\\ub300\", \"\\ucc98\\uc74c\", \"\\uc5f0\\ucd9c\", \"\\ub9c8\\uc9c0\\ub9c9\", \"\\ub9c8\\uc74c\", \"\\uac00\\uc2b4\", \"\\uba85\\uc791\", \"\\ucd94\\ucc9c\", \"\\uae34\\uc7a5\\uac10\", \"\\uc0c1\\uc9d5\", \"\\uba38\\ub9ac\", \"\\uac1c\\uc778\", \"\\uc9d1\\uc911\", \"\\uc774\\uac74\", \"\\uc2a4\\ud3ec\\uc77c\\ub7ec_\\ud3ec\\ud568\", \"\\uc0c1\\ud3c9_\\uc0c1\\ud3c9\", \"\\uae34\\uc7a5\", \"\\uc2dc\\ub098\\ub9ac\\uc624\", \"\\ud14c\\uc77c\", \"\\uc598\\uae30\", \"\\ubd80\\ubaa8\", \"\\ub208\\ubb3c\", \"\\uc2a4\\ub9b4\\ub7ec\", \"\\ub9ac\\uc2a4\", \"\\uc6c3\\uc74c\", \"\\uc608\\uc0c1\", \"\\uc2ec\\uc7a5\", \"\\ucf54\\ubbf9\", \"\\uc2a4\\ud1a0\\ub9ac\", \"\\ubab0\\uc785\", \"\\ub290\\ub08c\", \"\\ud604\\uc2e4\", \"\\ubc30\\uc6b0_\\uc5f0\\uae30\", \"\\uc5f0\\uae30\", \"\\uad00\\ub78c\", \"\\ubd80\\ubd84\", \"\\uacb0\\ub9d0\", \"\\ud574\\uc11d\", \"\\uc778\\uc0dd\", \"\\ubd88\\ud3b8\", \"\\ub0b4\\uc6a9\", \"\\uc758\\ubbf8\", \"\\uc7ac\\ubbf8\", \"\\ucda9\\uaca9\", \"\\ud544\\uc694\", \"\\uc7a5\\ub974\", \"\\uc774\\uac8c\", \"\\ucc9c\\uc7ac\", \"\\ubb54\\uac00\", \"\\ud669\\uae08\\uc885\\ub824\\uc0c1\", \"\\uc804\\uac1c\", \"\\ubc18\\uc804\", \"\\uc608\\uc220\", \"\\uac10\\ub3d9\", \"\\uc0b4\\uc778_\\ucd94\\uc5b5\", \"\\uc2dc\\uacc4_\\ubc29\\ud5a5\", \"\\ucd5c\\uadfc\", \"\\uac74\\uc9c0\", \"\\ub300\\uc911\", \"\\uc2e4\\ub9dd\", \"\\uc9c4\\uc2ec\", \"\\uacf5\\ud3ec\", \"\\uc601\\ud654\\uc81c\", \"\\uc774\\ud6c4\", \"\\uccad\\uc18c\\ub144\", \"\\ucc9c\\ub9cc\", \"\\ucd5c\\uc545\", \"\\ud6c4\\ud68c\", \"\\ubd84\\uc704\\uae30\", \"\\uc694\\uc18c\", \"\\ud6c4\\ubc18\\ubd80\", \"\\uc218\\uc0c1\", \"\\ubd09\\uc900\\ud638\", \"\\uc774\\ud574\", \"\\ub0b4\\uc6a9\", \"\\uc815\\ub3c4\", \"\\uc758\\ubbf8\", \"\\uc791\\ud488\", \"\\uac10\\ub3c5\", \"\\ud3c9\\uc810\", \"\\uc790\\uccb4\", \"\\uc18c\\uc7ac\", \"\\ub290\\ub08c\", \"\\uacf5\\uac10\", \"\\uc2a4\\ud1a0\\ub9ac\", \"\\uc0ac\\ub78c\", \"\\uac00\\ub09c\", \"\\uacc4\\ud68d\", \"\\uc778\\uac04\", \"\\uae30\\uc0dd\", \"\\uc138\\uc0c1\", \"\\ub514\\ud14c\\uc77c\", \"\\uc21c\\uac04\", \"\\ubc15\\uc218\", \"\\ud3c9\\uac00\", \"\\ud3c9\\ub860\\uac00\", \"\\uac10\\ud0c4\", \"\\ub204\\uac00\", \"\\uc9c0\\uae08\", \"\\ubc14\\ud034\\ubc8c\\ub808\", \"\\uc874\\uc7ac\", \"\\ub178\\ub825\", \"\\uc219\\uc8fc\", \"\\ubb18\\uc0ac\", \"\\uccad\\ubd88\", \"\\uc790\\ub9ac\", \"\\uc0ac\\ub791\", \"\\uc544\\ubc84\\uc9c0\", \"\\ud76c\\ub9dd\", \"\\uac70\\uae30\", \"\\uc0c1\\ub958\\uce35\", \"\\uc62c\\ud574\", \"\\uc870\\uc5ec\\uc815_\\uc5f0\\uae30\", \"\\uc54c\\ub77c\\ub518\", \"\\ub0a8\\ud3b8\", \"\\ubaa8\\uc2b5\", \"\\ud3c9\\uc810\", \"\\ubd88\\ud3b8\", \"\\uc601\\ud654\\uad00\", \"\\uae30\\uc0dd\\ucda9\", \"\\uc0ac\\ud68c\", \"\\ubd80\\uc790\", \"\\ud604\\uc2e4\", \"\\ub204\\uad70\\uac00\", \"\\ub098\\ub77c\", \"\\uac10\\ub3c5\", \"\\uc778\\uc0dd\", \"\\uae30\\ubd84\", \"\\uc1a1\\uac15\\ud638\", \"\\uac00\\uc871\", \"\\ubc30\\uc6b0\", \"\\uc644\\ubcbd\", \"\\uc870\\uc5ec\\uc815\", \"\\uc624\\ub79c\\ub9cc\", \"\\uc774\\uc120\\uade0\", \"\\uc81c\\ubaa9\", \"\\uc774\\uc720\", \"\\ubc15\\uc0ac\\uc7a5\", \"\\uc785\\uac10\", \"\\uc88c\\ud30c\", \"\\uc790\\ubcf8\\uc8fc\\uc758\", \"\\uc9c0\\ud558\\uc2e4\", \"\\uc2a4\\ub9b4\", \"\\uc11c\\ubbfc\", \"\\uac1c\\ubd09\", \"\\uce90\\ub9ad\\ud130\", \"\\uad6c\\uc131\", \"\\ud589\\ub3d9\", \"\\uc790\\ub791\", \"\\uc0ac\\uae30\", \"\\ub9c8\\ubb34\\ub9ac\", \"\\uc5c4\\ub9c8\", \"\\ubd80\\ubd80\", \"\\uae30\\ud0dd\", \"\\uac00\\uce58\", \"\\uc5d4\\ub529\", \"\\uadf9\\ucc2c\", \"\\uae30\\uc0dd\\ucda9\", \"\\ubd80\\uc790\", \"\\uc774\\uc57c\\uae30\", \"\\uac10\\ub3c5\", \"\\uc544\\ub4e4\", \"\\uc5f0\\uae30\", \"\\uc778\\uc0c1\", \"\\ubc18\\uc9c0\\ud558\", \"\\uacf5\\uac10\", \"\\ucd5c\\uace0\", \"\\ud55c\\uad6d\", \"\\ubd09\\uc900\\ud638_\\uac10\\ub3c5\", \"\\ub0c4\\uc0c8\", \"\\uc5ec\\uc6b4\", \"\\ud45c\\ud604\", \"\\uc18c\\ub984\", \"\\ub300\\ubc15\", \"\\ube48\\ubd80_\\uaca9\\ucc28\", \"\\uc9c0\\ud558\", \"\\uac10\\uc0ac\", \"\\uc138\\uacc4\", \"\\uc5ed\\ub300\", \"\\uc5f0\\uae30\\ub825\", \"\\uc2dc\\ub300\", \"\\uacc4\\uae09\", \"\\uc218\\uc791\", \"\\uc0ac\\uc2e4\", \"\\ubd80\\uc871\", \"\\uc544\\ub798\", \"\\ucd95\\ud558\", \"\\uc624\\ub9cc_\\uac00\\uc9c0\", \"\\ube44\\ud310\", \"\\ud558\\uce35\\ubbfc\", \"\\ud2b9\\uc720\", \"\\uc785\\ub3c4\", \"\\ub2e8\\uc5b4\", \"\\uc815\\uce58\", \"\\uc0c1\\uc5c5\", \"\\ubbf8\\uad6d\", \"\\uc791\\ud488\", \"\\ubc18\\uc9c0\\ud558\", \"\\ubd09\\uc900\\ud638\", \"\\uc218\\uc900\", \"\\ud604\\uc2e4\", \"\\uc778\\uc0dd\", \"\\uac10\\ub3c5\", \"\\uc0ac\\ud68c\", \"\\ubab0\\uc785\", \"\\uc5f0\\uae30\", \"\\uc815\\ub3c4\"], \"Total\": [2592.0, 1709.0, 1613.0, 1668.0, 1519.0, 931.0, 911.0, 815.0, 847.0, 789.0, 901.0, 750.0, 797.0, 717.0, 623.0, 582.0, 635.0, 926.0, 496.0, 439.0, 451.0, 444.0, 396.0, 455.0, 409.0, 440.0, 415.0, 678.0, 654.0, 1111.0, 2592.107666015625, 901.5626220703125, 635.2987060546875, 455.1733703613281, 440.92791748046875, 415.4737548828125, 364.103759765625, 313.9395446777344, 302.7252502441406, 230.65333557128906, 227.21917724609375, 204.95689392089844, 197.67173767089844, 190.35317993164062, 187.5423126220703, 184.05613708496094, 178.81932067871094, 178.81932067871094, 164.07896423339844, 154.72811889648438, 144.62008666992188, 135.3072052001953, 128.71075439453125, 121.62577056884766, 120.2976303100586, 115.1605224609375, 113.7725601196289, 113.37408447265625, 112.25831604003906, 108.12578582763672, 654.3549194335938, 445.54498291015625, 579.4970092773438, 1111.2408447265625, 324.49542236328125, 666.3719482421875, 286.7823486328125, 281.39300537109375, 303.59393310546875, 256.4874572753906, 499.517333984375, 605.2481689453125, 678.44677734375, 428.3434753417969, 847.8187866210938, 797.4844360351562, 451.5124816894531, 444.9366149902344, 409.60955810546875, 362.1025085449219, 337.435791015625, 303.5568542480469, 247.76979064941406, 245.06700134277344, 221.9882354736328, 194.43853759765625, 193.05714416503906, 176.9566650390625, 166.0550537109375, 150.23110961914062, 133.8850860595703, 125.20491790771484, 125.39059448242188, 123.1302261352539, 120.77645111083984, 120.6102066040039, 114.50250244140625, 111.1035385131836, 109.44758605957031, 104.01424407958984, 104.87505340576172, 100.53681945800781, 99.44790649414062, 99.47863006591797, 1519.0076904296875, 527.9686279296875, 678.44677734375, 504.178466796875, 428.3434753417969, 926.1167602539062, 1074.4061279296875, 489.33880615234375, 291.95123291015625, 194.34835815429688, 579.4970092773438, 290.6600036621094, 654.3549194335938, 1613.568603515625, 582.6053466796875, 335.8565673828125, 322.1362609863281, 278.9206848144531, 219.20697021484375, 201.0067596435547, 193.70010375976562, 157.67640686035156, 149.41275024414062, 135.74978637695312, 129.39022827148438, 125.66101837158203, 124.07667541503906, 113.2713394165039, 112.93364715576172, 102.00183868408203, 99.19010162353516, 94.43391418457031, 94.36662292480469, 90.04635620117188, 84.32901000976562, 83.9566650390625, 80.45318603515625, 78.41485595703125, 77.1787338256836, 73.65495300292969, 71.3626480102539, 68.91492462158203, 66.95671844482422, 223.2945098876953, 489.33880615234375, 605.2481689453125, 229.3948211669922, 1668.1787109375, 488.074951171875, 409.7043762207031, 1111.2408447265625, 154.74266052246094, 242.30226135253906, 1074.4061279296875, 499.517333984375, 815.5195922851562, 789.2677001953125, 717.8054809570312, 396.3880920410156, 335.1866455078125, 315.57781982421875, 295.9435119628906, 288.2497253417969, 252.858154296875, 246.27308654785156, 149.60240173339844, 147.24453735351562, 137.25900268554688, 134.61996459960938, 127.0517578125, 126.4794692993164, 117.42711639404297, 102.30326843261719, 100.07905578613281, 99.06829071044922, 98.25788116455078, 92.60945892333984, 85.41050720214844, 76.70293426513672, 73.73949432373047, 69.69292449951172, 69.40779876708984, 66.42965698242188, 65.3831787109375, 64.13932037353516, 1668.1787109375, 409.7043762207031, 333.3873596191406, 1074.4061279296875, 127.62545013427734, 666.3719482421875, 153.22769165039062, 322.6811218261719, 290.6600036621094, 1709.6668701171875, 931.9515991210938, 911.0810546875, 750.21728515625, 623.6929321289062, 496.6615905761719, 439.3508605957031, 283.59906005859375, 263.6283874511719, 248.1961669921875, 215.7084197998047, 192.20779418945312, 179.66171264648438, 162.65789794921875, 155.46084594726562, 145.29359436035156, 118.06736755371094, 93.14283752441406, 91.58287811279297, 81.52967834472656, 78.98646545410156, 76.94719696044922, 72.30208587646484, 70.76378631591797, 69.94232177734375, 65.02578735351562, 64.89443969726562, 63.495628356933594, 62.413448333740234, 61.78329086303711, 926.1167602539062, 322.6811218261719, 1519.0076904296875, 175.431640625, 1111.2408447265625, 499.517333984375, 1074.4061279296875, 488.074951171875, 445.54498291015625, 666.3719482421875, 504.178466796875], \"loglift\": [30.0, 29.0, 28.0, 27.0, 26.0, 25.0, 24.0, 23.0, 22.0, 21.0, 20.0, 19.0, 18.0, 17.0, 16.0, 15.0, 14.0, 13.0, 12.0, 11.0, 10.0, 9.0, 8.0, 7.0, 6.0, 5.0, 4.0, 3.0, 2.0, 1.0, 1.4628000259399414, 1.4622999429702759, 1.461899995803833, 1.461400032043457, 1.461400032043457, 1.4611999988555908, 1.4609999656677246, 1.4606000185012817, 1.4605000019073486, 1.4596999883651733, 1.4596999883651733, 1.4593000411987305, 1.4592000246047974, 1.4589999914169312, 1.4589999914169312, 1.458899974822998, 1.458799958229065, 1.458799958229065, 1.458400011062622, 1.4580999612808228, 1.4577000141143799, 1.4572999477386475, 1.4570000171661377, 1.4565999507904053, 1.4565999507904053, 1.4563000202178955, 1.4562000036239624, 1.4562000036239624, 1.4562000036239624, 1.4558000564575195, 1.187999963760376, 1.1924999952316284, 1.1224000453948975, 0.8571000099182129, 1.1784000396728516, 0.8652999997138977, 1.1604000329971313, 1.1390999555587769, 1.0787999629974365, 1.152999997138977, 0.7480999827384949, 0.6136000156402588, 0.4909000098705292, 0.604200005531311, 1.5815999507904053, 1.5815000534057617, 1.5808000564575195, 1.5807000398635864, 1.5806000232696533, 1.580299973487854, 1.580199956893921, 1.5799000263214111, 1.579300045967102, 1.579300045967102, 1.5789999961853027, 1.5784000158309937, 1.5784000158309937, 1.5780999660491943, 1.5778000354766846, 1.577299952507019, 1.5765999555587769, 1.576200008392334, 1.576200008392334, 1.5760999917984009, 1.5759999752044678, 1.5759999752044678, 1.575600028038025, 1.5753999948501587, 1.5752999782562256, 1.5750000476837158, 1.5750000476837158, 1.5745999813079834, 1.5745999813079834, 1.5745999813079834, 1.343999981880188, 1.2416000366210938, 1.1059000492095947, 1.0144000053405762, 1.029099941253662, 0.7153000235557556, 0.2540999948978424, 0.6269999742507935, 0.9279999732971191, 1.2122000455856323, 0.3366999924182892, 0.8535000085830688, 0.15369999408721924, 1.6303999423980713, 1.6296000480651855, 1.628600001335144, 1.628499984741211, 1.628100037574768, 1.6274000406265259, 1.6269999742507935, 1.6268999576568604, 1.6260000467300415, 1.6256999969482422, 1.6252000331878662, 1.624899983406067, 1.6246999502182007, 1.6246000528335571, 1.6240999698638916, 1.6240999698638916, 1.6232999563217163, 1.6231000423431396, 1.6226999759674072, 1.6226999759674072, 1.6223000288009644, 1.6217000484466553, 1.6216000318527222, 1.6212999820709229, 1.62090003490448, 1.6208000183105469, 1.620300054550171, 1.6200000047683716, 1.6196999549865723, 1.6190999746322632, 1.361799955368042, 1.1434999704360962, 1.0713000297546387, 1.306399941444397, 0.734499990940094, 1.0733000040054321, 0.8148000240325928, 0.27300000190734863, 1.287600040435791, 0.9381999969482422, -0.5432999730110168, 0.05779999867081642, 1.6811000108718872, 1.680999994277954, 1.680899977684021, 1.6799999475479126, 1.6797000169754028, 1.6794999837875366, 1.6793999671936035, 1.6792999505996704, 1.6789000034332275, 1.6787999868392944, 1.676800012588501, 1.6766999959945679, 1.676300048828125, 1.676200032234192, 1.6758999824523926, 1.6757999658584595, 1.6753000020980835, 1.674399971961975, 1.6742000579833984, 1.6741000413894653, 1.6741000413894653, 1.6735999584197998, 1.6727999448776245, 1.6718000173568726, 1.6713999509811401, 1.670799970626831, 1.670699954032898, 1.670199990272522, 1.6699999570846558, 1.669700026512146, 1.157099962234497, 1.0958000421524048, 1.0706000328063965, 0.5609999895095825, 1.371500015258789, 0.49639999866485596, 1.2517999410629272, 0.6966000199317932, 0.5935999751091003, 1.7072999477386475, 1.7069000005722046, 1.7069000005722046, 1.7066999673843384, 1.7065000534057617, 1.7060999870300293, 1.705899953842163, 1.7050000429153442, 1.704699993133545, 1.7044999599456787, 1.7041000127792358, 1.7036000490188599, 1.7034000158309937, 1.7029000520706177, 1.7026000022888184, 1.702299952507019, 1.7010999917984009, 1.6992000341415405, 1.6991000175476074, 1.6979999542236328, 1.6978000402450562, 1.6973999738693237, 1.6966999769210815, 1.6964999437332153, 1.6964000463485718, 1.6956000328063965, 1.6955000162124634, 1.695099949836731, 1.695099949836731, 1.694700002670288, 1.1617000102996826, 1.2374999523162842, 0.155799999833107, 1.177899956703186, 0.08269999921321869, 0.512499988079071, -0.10379999876022339, 0.4101000130176544, 0.262800008058548, -0.23119999468326569, 0.003700000001117587], \"logprob\": [30.0, 29.0, 28.0, 27.0, 26.0, 25.0, 24.0, 23.0, 22.0, 21.0, 20.0, 19.0, 18.0, 17.0, 16.0, 15.0, 14.0, 13.0, 12.0, 11.0, 10.0, 9.0, 8.0, 7.0, 6.0, 5.0, 4.0, 3.0, 2.0, 1.0, -2.3199000358581543, -3.3766000270843506, -3.7269999980926514, -4.0609002113342285, -4.092800140380859, -4.152299880981445, -4.284599781036377, -4.433199882507324, -4.469600200653076, -4.742300033569336, -4.757400035858154, -4.860899925231934, -4.897200107574463, -4.935100078582764, -4.949999809265137, -4.968900203704834, -4.997799873352051, -4.997799873352051, -5.0843000411987305, -5.1433000564575195, -5.21120023727417, -5.278200149536133, -5.328400135040283, -5.38539981842041, -5.396399974822998, -5.440400123596191, -5.452600002288818, -5.456099987030029, -5.466000080108643, -5.503900051116943, -3.971299886703491, -4.351200103759766, -4.158400058746338, -3.772599935531616, -4.682300090789795, -4.275899887084961, -4.82390022277832, -4.864099979400635, -4.848499774932861, -4.94290018081665, -4.681300163269043, -4.623700141906738, -4.632299900054932, -4.978899955749512, -3.3187999725341797, -3.380000114440918, -3.9495999813079834, -3.9642999172210693, -4.0472002029418945, -4.1707000732421875, -4.241399765014648, -4.347499847412109, -4.551199913024902, -4.56220006942749, -4.661399841308594, -4.794400215148926, -4.801599979400635, -4.888999938964844, -4.952899932861328, -5.053500175476074, -5.169400215148926, -5.236800193786621, -5.235300064086914, -5.253600120544434, -5.273099899291992, -5.274499893188477, -5.3267998695373535, -5.3572001457214355, -5.372200012207031, -5.423500061035156, -5.415299892425537, -5.457900047302246, -5.468800067901611, -5.468500137329102, -2.9732000827789307, -4.132400035858154, -4.017300128936768, -4.405700206756592, -4.553999900817871, -4.096700191497803, -4.40939998626709, -4.822999954223633, -5.038400173187256, -5.161099910736084, -4.9440999031066895, -5.117400169372559, -5.00570011138916, -2.6263999938964844, -3.645900011062622, -4.197700023651123, -4.239500045776367, -4.383900165557861, -4.6255998611450195, -4.712600231170654, -4.749800205230713, -4.956500053405762, -5.0106000900268555, -5.10699987411499, -5.155300140380859, -5.184700012207031, -5.197500228881836, -5.289100170135498, -5.292099952697754, -5.394700050354004, -5.422800064086914, -5.472400188446045, -5.473199844360352, -5.520400047302246, -5.586599826812744, -5.591100215911865, -5.633999824523926, -5.660099983215332, -5.676000118255615, -5.723299980163574, -5.755300045013428, -5.790500164031982, -5.819900035858154, -4.872700214385986, -4.30649995803833, -4.166100025177002, -4.901199817657471, -3.489000082015991, -4.379199981689453, -4.812699794769287, -4.3566999435424805, -5.313600063323975, -5.214600086212158, -5.206699848175049, -5.371500015258789, -3.2581000328063965, -3.2908999919891357, -3.3859000205993652, -3.980600118637085, -4.148600101470947, -4.209000110626221, -4.273399829864502, -4.299900054931641, -4.43120002746582, -4.457699775695801, -4.958199977874756, -4.9741997718811035, -5.0447998046875, -5.0644001960754395, -5.122499942779541, -5.127099990844727, -5.2017998695373535, -5.340700149536133, -5.3628997802734375, -5.3730998039245605, -5.38129997253418, -5.440999984741211, -5.52269983291626, -5.63129997253418, -5.671000003814697, -5.728099822998047, -5.7322998046875, -5.776599884033203, -5.792699813842773, -5.81220006942749, -3.0664000511169434, -4.531799793243408, -4.7631001472473145, -4.102499961853027, -5.422399997711182, -4.644800186157227, -5.359300136566162, -5.1697001457214355, -5.377200126647949, -2.4916999340057373, -3.09879994392395, -3.121500015258789, -3.315999984741211, -3.5009000301361084, -3.7290000915527344, -3.851799964904785, -4.290500164031982, -4.363699913024902, -4.424300193786621, -4.565000057220459, -4.680799961090088, -4.748600006103516, -4.848499774932861, -4.894000053405762, -4.961900234222412, -5.1707000732421875, -5.4096999168396, -5.426700115203857, -5.544000148773193, -5.576000213623047, -5.602399826049805, -5.66540002822876, -5.687099933624268, -5.69890022277832, -5.77269983291626, -5.774799823760986, -5.796899795532227, -5.8140997886657715, -5.824699878692627, -3.6503000259399414, -4.628799915313721, -4.161399841308594, -5.297900199890137, -4.546999931335449, -4.916800022125244, -4.767199993133545, -5.042399883270264, -5.280900001525879, -5.372399806976318, -5.416299819946289]}, \"token.table\": {\"Topic\": [3, 1, 4, 4, 1, 2, 3, 4, 5, 2, 5, 3, 4, 1, 3, 2, 1, 2, 5, 3, 2, 3, 4, 2, 1, 2, 4, 4, 1, 4, 3, 3, 4, 4, 1, 1, 3, 4, 5, 3, 1, 2, 5, 3, 3, 3, 4, 5, 1, 1, 2, 5, 5, 2, 3, 1, 4, 1, 1, 1, 1, 3, 4, 5, 1, 5, 3, 2, 5, 3, 4, 3, 2, 4, 5, 4, 1, 2, 2, 5, 5, 1, 4, 1, 2, 3, 4, 5, 2, 1, 3, 5, 5, 4, 3, 3, 5, 1, 3, 5, 2, 3, 5, 1, 1, 1, 4, 5, 3, 5, 1, 2, 4, 2, 5, 2, 5, 3, 3, 4, 1, 1, 2, 1, 2, 1, 5, 2, 1, 3, 4, 5, 3, 3, 1, 4, 4, 5, 5, 1, 4, 5, 5, 1, 3, 5, 2, 1, 2, 4, 5, 3, 4, 2, 1, 1, 2, 1, 2, 4, 2, 3, 4, 4, 1, 2, 2, 3, 4, 5, 1, 3, 5, 4, 5, 4, 3, 4, 1, 2, 3, 2, 5, 2, 1, 2, 2, 1, 2, 5, 5, 4, 4, 3, 3, 4, 3, 5, 4, 2, 1, 1, 2, 2, 3, 2, 5, 2, 2, 1, 5, 2, 4, 1, 1, 5, 3, 3, 2, 3, 5, 2, 5, 5, 1, 3, 4, 1, 3, 5, 2, 2, 2, 3], \"Freq\": [0.9989609718322754, 0.9970072507858276, 0.9988778829574585, 0.9935321807861328, 0.1321660429239273, 0.26526281237602234, 0.11355110257863998, 0.3257613480091095, 0.16381143033504486, 0.997744619846344, 0.9967158436775208, 0.9969841241836548, 0.9970356225967407, 0.9981446266174316, 0.9947094917297363, 0.9918052554130554, 0.6818318367004395, 0.31621184945106506, 0.9979792833328247, 0.9974495768547058, 0.48166242241859436, 0.17890317738056183, 0.33716368675231934, 0.9908208847045898, 0.73923659324646, 0.25803542137145996, 0.9892166256904602, 0.9822368025779724, 0.9995298385620117, 0.9993628859519958, 0.9966990947723389, 0.40822964906692505, 0.5916632413864136, 0.9941245913505554, 0.993424117565155, 0.9946343302726746, 0.4993762671947479, 0.1609559953212738, 0.3384202718734741, 0.985711395740509, 0.3788064420223236, 0.6205350160598755, 0.9983774423599243, 0.9901782274246216, 0.9947396516799927, 0.710857629776001, 0.10339747369289398, 0.18740792572498322, 0.9948549270629883, 0.7109614014625549, 0.288180947303772, 0.9862170219421387, 0.9978876709938049, 0.9933891892433167, 0.9949914216995239, 0.9899225831031799, 0.9908356070518494, 0.9969685673713684, 0.998859703540802, 0.9966017603874207, 0.997604250907898, 0.7658047676086426, 0.04030551388859749, 0.19704918563365936, 0.7631103992462158, 0.2356664389371872, 0.9954050779342651, 0.9987085461616516, 0.9873219728469849, 0.997604489326477, 0.9959732890129089, 0.9957101345062256, 0.995646059513092, 0.37188416719436646, 0.6260049939155579, 0.9990209341049194, 0.751936674118042, 0.24653661251068115, 0.7880144715309143, 0.21198049187660217, 0.9988134503364563, 0.9944778680801392, 0.9900574684143066, 0.7249647378921509, 0.27363863587379456, 0.4417819678783417, 0.5564988255500793, 0.9936355352401733, 0.9916562438011169, 0.42792364954948425, 0.5716663599014282, 0.9958218932151794, 0.9976164102554321, 0.9951937198638916, 0.9996476173400879, 0.996098518371582, 0.9877302646636963, 0.15366491675376892, 0.571633517742157, 0.272499144077301, 0.9945241808891296, 0.9847272038459778, 0.9933756589889526, 0.9953312277793884, 0.9954181909561157, 0.9995726943016052, 0.9963626861572266, 0.9937161803245544, 0.9944939017295837, 0.9992014169692993, 0.30872398614883423, 0.6894835829734802, 0.9983938336372375, 0.9951885938644409, 0.990959644317627, 0.41041627526283264, 0.5871232748031616, 0.988001823425293, 0.9963856339454651, 0.9962090849876404, 0.9975258708000183, 0.7595266699790955, 0.23993095755577087, 0.9954181909561157, 0.9945937991142273, 0.9952942132949829, 0.9970356225967407, 0.9903764128684998, 0.9887908697128296, 0.2585691213607788, 0.7365301847457886, 0.9935032725334167, 0.988605260848999, 0.9867238402366638, 0.9977295994758606, 0.9899715185165405, 0.9941394925117493, 0.9988889694213867, 0.9963169097900391, 0.5507434606552124, 0.3061353266239166, 0.14406368136405945, 0.9959553480148315, 0.9978955388069153, 0.7236431837081909, 0.2746356725692749, 0.9935711622238159, 0.9967004656791687, 0.9955482482910156, 0.9968118667602539, 0.987690269947052, 0.9911078214645386, 0.9964597225189209, 0.994660496711731, 0.9932096004486084, 0.42255809903144836, 0.5743054747581482, 0.9942618608474731, 0.9985118508338928, 0.9956644177436829, 0.3029508888721466, 0.1529752016067505, 0.5429120063781738, 0.9948306083679199, 0.28789588809013367, 0.7102694511413574, 0.9949406981468201, 0.9964727163314819, 0.6526235342025757, 0.34589049220085144, 0.48847153782844543, 0.20820097625255585, 0.3022918105125427, 0.9915478229522705, 0.9842249155044556, 0.9934190511703491, 0.9883797764778137, 0.9953947067260742, 0.23291561007499695, 0.5206348896026611, 0.24319130182266235, 0.42003342509269714, 0.5787607431411743, 0.9978949427604675, 0.9993759393692017, 0.9990342259407043, 0.9968931078910828, 0.24991150200366974, 0.5672594308853149, 0.18247507512569427, 0.9921942949295044, 0.996606171131134, 0.9981690049171448, 0.9949182271957397, 0.9917327761650085, 0.9908275604248047, 0.9913225173950195, 0.9951805472373962, 0.9917218089103699, 0.9968850016593933, 0.9971083402633667, 0.9974221587181091, 0.9900674819946289, 0.9969552755355835, 0.9961149096488953, 0.9956114292144775, 0.9996099472045898, 0.9936463832855225, 0.9959105253219604, 0.9971674680709839, 0.9875109791755676, 0.999392569065094, 0.9892179369926453, 0.98958820104599, 0.9957122802734375, 0.986527144908905, 0.997237503528595, 0.9944766759872437, 0.3841919004917145, 0.615115761756897, 0.9986678957939148, 0.9988649487495422, 0.9892065525054932, 0.9989789128303528, 0.7329792976379395, 0.26512017846107483, 0.9871981739997864, 0.5453363060951233, 0.2573699355125427, 0.19707699120044708, 0.9981655478477478, 0.9954960942268372, 0.99024897813797, 0.9943670630455017], \"Term\": [\"\\uac00\\ub09c\", \"\\uac00\\uc2b4\", \"\\uac00\\uc871\", \"\\uac00\\uce58\", \"\\uac10\\ub3c5\", \"\\uac10\\ub3c5\", \"\\uac10\\ub3c5\", \"\\uac10\\ub3c5\", \"\\uac10\\ub3c5\", \"\\uac10\\ub3d9\", \"\\uac10\\uc0ac\", \"\\uac10\\ud0c4\", \"\\uac1c\\ubd09\", \"\\uac1c\\uc778\", \"\\uac70\\uae30\", \"\\uac74\\uc9c0\", \"\\uacb0\\ub9d0\", \"\\uacb0\\ub9d0\", \"\\uacc4\\uae09\", \"\\uacc4\\ud68d\", \"\\uacf5\\uac10\", \"\\uacf5\\uac10\", \"\\uacf5\\uac10\", \"\\uacf5\\ud3ec\", \"\\uad00\\ub78c\", \"\\uad00\\ub78c\", \"\\uad6c\\uc131\", \"\\uadf9\\ucc2c\", \"\\uae30\\ub300\", \"\\uae30\\ubd84\", \"\\uae30\\uc0dd\", \"\\uae30\\uc0dd\\ucda9\", \"\\uae30\\uc0dd\\ucda9\", \"\\uae30\\ud0dd\", \"\\uae34\\uc7a5\", \"\\uae34\\uc7a5\\uac10\", \"\\ub098\\ub77c\", \"\\ub098\\ub77c\", \"\\ub098\\ub77c\", \"\\ub0a8\\ud3b8\", \"\\ub0b4\\uc6a9\", \"\\ub0b4\\uc6a9\", \"\\ub0c4\\uc0c8\", \"\\ub178\\ub825\", \"\\ub204\\uac00\", \"\\ub204\\uad70\\uac00\", \"\\ub204\\uad70\\uac00\", \"\\ub204\\uad70\\uac00\", \"\\ub208\\ubb3c\", \"\\ub290\\ub08c\", \"\\ub290\\ub08c\", \"\\ub2e8\\uc5b4\", \"\\ub300\\ubc15\", \"\\ub300\\uc911\", \"\\ub514\\ud14c\\uc77c\", \"\\ub9ac\\uc2a4\", \"\\ub9c8\\ubb34\\ub9ac\", \"\\ub9c8\\uc74c\", \"\\ub9c8\\uc9c0\\ub9c9\", \"\\uba38\\ub9ac\", \"\\uba85\\uc791\", \"\\ubaa8\\uc2b5\", \"\\ubaa8\\uc2b5\", \"\\ubaa8\\uc2b5\", \"\\ubab0\\uc785\", \"\\ubab0\\uc785\", \"\\ubb18\\uc0ac\", \"\\ubb54\\uac00\", \"\\ubbf8\\uad6d\", \"\\ubc14\\ud034\\ubc8c\\ub808\", \"\\ubc15\\uc0ac\\uc7a5\", \"\\ubc15\\uc218\", \"\\ubc18\\uc804\", \"\\ubc18\\uc9c0\\ud558\", \"\\ubc18\\uc9c0\\ud558\", \"\\ubc30\\uc6b0\", \"\\ubc30\\uc6b0_\\uc5f0\\uae30\", \"\\ubc30\\uc6b0_\\uc5f0\\uae30\", \"\\ubd09\\uc900\\ud638\", \"\\ubd09\\uc900\\ud638\", \"\\ubd09\\uc900\\ud638_\\uac10\\ub3c5\", \"\\ubd80\\ubaa8\", \"\\ubd80\\ubd80\", \"\\ubd80\\ubd84\", \"\\ubd80\\ubd84\", \"\\ubd80\\uc790\", \"\\ubd80\\uc790\", \"\\ubd80\\uc871\", \"\\ubd84\\uc704\\uae30\", \"\\ubd88\\ud3b8\", \"\\ubd88\\ud3b8\", \"\\ube44\\ud310\", \"\\ube48\\ubd80_\\uaca9\\ucc28\", \"\\uc0ac\\uae30\", \"\\uc0ac\\ub78c\", \"\\uc0ac\\ub791\", \"\\uc0ac\\uc2e4\", \"\\uc0ac\\ud68c\", \"\\uc0ac\\ud68c\", \"\\uc0ac\\ud68c\", \"\\uc0b4\\uc778_\\ucd94\\uc5b5\", \"\\uc0c1\\ub958\\uce35\", \"\\uc0c1\\uc5c5\", \"\\uc0c1\\uc9d5\", \"\\uc0c1\\ud3c9_\\uc0c1\\ud3c9\", \"\\uc0dd\\uac01\", \"\\uc11c\\ubbfc\", \"\\uc138\\uacc4\", \"\\uc138\\uc0c1\", \"\\uc18c\\ub984\", \"\\uc18c\\uc7ac\", \"\\uc18c\\uc7ac\", \"\\uc1a1\\uac15\\ud638\", \"\\uc218\\uc0c1\", \"\\uc218\\uc791\", \"\\uc218\\uc900\", \"\\uc218\\uc900\", \"\\uc219\\uc8fc\", \"\\uc21c\\uac04\", \"\\uc2a4\\ub9b4\", \"\\uc2a4\\ub9b4\\ub7ec\", \"\\uc2a4\\ud1a0\\ub9ac\", \"\\uc2a4\\ud1a0\\ub9ac\", \"\\uc2a4\\ud3ec\\uc77c\\ub7ec_\\ud3ec\\ud568\", \"\\uc2dc\\uacc4_\\ubc29\\ud5a5\", \"\\uc2dc\\ub098\\ub9ac\\uc624\", \"\\uc2dc\\ub300\", \"\\uc2e4\\ub9dd\", \"\\uc2ec\\uc7a5\", \"\\uc544\\ub4e4\", \"\\uc544\\ub4e4\", \"\\uc544\\ub798\", \"\\uc544\\ubc84\\uc9c0\", \"\\uc54c\\ub77c\\ub518\", \"\\uc598\\uae30\", \"\\uc5c4\\ub9c8\", \"\\uc5d4\\ub529\", \"\\uc5ec\\uc6b4\", \"\\uc5ed\\ub300\", \"\\uc5f0\\uae30\", \"\\uc5f0\\uae30\", \"\\uc5f0\\uae30\", \"\\uc5f0\\uae30\\ub825\", \"\\uc5f0\\ucd9c\", \"\\uc601\\ud654\\uad00\", \"\\uc601\\ud654\\uad00\", \"\\uc601\\ud654\\uc81c\", \"\\uc608\\uc0c1\", \"\\uc608\\uc220\", \"\\uc624\\ub79c\\ub9cc\", \"\\uc624\\ub9cc_\\uac00\\uc9c0\", \"\\uc62c\\ud574\", \"\\uc644\\ubcbd\", \"\\uc694\\uc18c\", \"\\uc6c3\\uc74c\", \"\\uc758\\ubbf8\", \"\\uc758\\ubbf8\", \"\\uc774\\uac74\", \"\\uc774\\uac8c\", \"\\uc774\\uc120\\uade0\", \"\\uc774\\uc57c\\uae30\", \"\\uc774\\uc57c\\uae30\", \"\\uc774\\uc57c\\uae30\", \"\\uc774\\uc720\", \"\\uc774\\ud574\", \"\\uc774\\ud574\", \"\\uc774\\ud6c4\", \"\\uc778\\uac04\", \"\\uc778\\uc0c1\", \"\\uc778\\uc0c1\", \"\\uc778\\uc0dd\", \"\\uc778\\uc0dd\", \"\\uc778\\uc0dd\", \"\\uc785\\uac10\", \"\\uc785\\ub3c4\", \"\\uc790\\ub791\", \"\\uc790\\ub9ac\", \"\\uc790\\ubcf8\\uc8fc\\uc758\", \"\\uc790\\uccb4\", \"\\uc790\\uccb4\", \"\\uc790\\uccb4\", \"\\uc791\\ud488\", \"\\uc791\\ud488\", \"\\uc7a5\\ub974\", \"\\uc7a5\\uba74\", \"\\uc7ac\\ubbf8\", \"\\uc804\\uac1c\", \"\\uc815\\ub3c4\", \"\\uc815\\ub3c4\", \"\\uc815\\ub3c4\", \"\\uc815\\uce58\", \"\\uc81c\\ubaa9\", \"\\uc870\\uc5ec\\uc815\", \"\\uc870\\uc5ec\\uc815_\\uc5f0\\uae30\", \"\\uc874\\uc7ac\", \"\\uc88c\\ud30c\", \"\\uc9c0\\uae08\", \"\\uc9c0\\ud558\", \"\\uc9c0\\ud558\\uc2e4\", \"\\uc9c4\\uc2ec\", \"\\uc9d1\\uc911\", \"\\ucc98\\uc74c\", \"\\ucc9c\\ub9cc\", \"\\ucc9c\\uc7ac\", \"\\uccad\\ubd88\", \"\\uccad\\uc18c\\ub144\", \"\\ucd5c\\uace0\", \"\\ucd5c\\uadfc\", \"\\ucd5c\\uc545\", \"\\ucd94\\ucc9c\", \"\\ucd95\\ud558\", \"\\ucda9\\uaca9\", \"\\uce90\\ub9ad\\ud130\", \"\\ucf54\\ubbf9\", \"\\ud14c\\uc77c\", \"\\ud2b9\\uc720\", \"\\ud3c9\\uac00\", \"\\ud3c9\\ub860\\uac00\", \"\\ud3c9\\uc810\", \"\\ud3c9\\uc810\", \"\\ud45c\\ud604\", \"\\ud544\\uc694\", \"\\ud558\\uce35\\ubbfc\", \"\\ud55c\\uad6d\", \"\\ud574\\uc11d\", \"\\ud574\\uc11d\", \"\\ud589\\ub3d9\", \"\\ud604\\uc2e4\", \"\\ud604\\uc2e4\", \"\\ud604\\uc2e4\", \"\\ud669\\uae08\\uc885\\ub824\\uc0c1\", \"\\ud6c4\\ubc18\\ubd80\", \"\\ud6c4\\ud68c\", \"\\ud76c\\ub9dd\"]}, \"R\": 30, \"lambda.step\": 0.01, \"plot.opts\": {\"xlab\": \"PC1\", \"ylab\": \"PC2\"}, \"topic.order\": [4, 3, 2, 1, 5]};\n",
       "\n",
       "function LDAvis_load_lib(url, callback){\n",
       "  var s = document.createElement('script');\n",
       "  s.src = url;\n",
       "  s.async = true;\n",
       "  s.onreadystatechange = s.onload = callback;\n",
       "  s.onerror = function(){console.warn(\"failed to load library \" + url);};\n",
       "  document.getElementsByTagName(\"head\")[0].appendChild(s);\n",
       "}\n",
       "\n",
       "if(typeof(LDAvis) !== \"undefined\"){\n",
       "   // already loaded: just create the visualization\n",
       "   !function(LDAvis){\n",
       "       new LDAvis(\"#\" + \"ldavis_el35101398895337948489278262519\", ldavis_el35101398895337948489278262519_data);\n",
       "   }(LDAvis);\n",
       "}else if(typeof define === \"function\" && define.amd){\n",
       "   // require.js is available: use it to load d3/LDAvis\n",
       "   require.config({paths: {d3: \"https://cdnjs.cloudflare.com/ajax/libs/d3/3.5.5/d3.min\"}});\n",
       "   require([\"d3\"], function(d3){\n",
       "      window.d3 = d3;\n",
       "      LDAvis_load_lib(\"https://cdn.rawgit.com/bmabey/pyLDAvis/files/ldavis.v1.0.0.js\", function(){\n",
       "        new LDAvis(\"#\" + \"ldavis_el35101398895337948489278262519\", ldavis_el35101398895337948489278262519_data);\n",
       "      });\n",
       "    });\n",
       "}else{\n",
       "    // require.js not available: dynamically load d3 & LDAvis\n",
       "    LDAvis_load_lib(\"https://cdnjs.cloudflare.com/ajax/libs/d3/3.5.5/d3.min.js\", function(){\n",
       "         LDAvis_load_lib(\"https://cdn.rawgit.com/bmabey/pyLDAvis/files/ldavis.v1.0.0.js\", function(){\n",
       "                 new LDAvis(\"#\" + \"ldavis_el35101398895337948489278262519\", ldavis_el35101398895337948489278262519_data);\n",
       "            })\n",
       "         });\n",
       "}\n",
       "</script>"
      ],
      "text/plain": [
       "<IPython.core.display.HTML object>"
      ]
     },
     "execution_count": 33,
     "metadata": {},
     "output_type": "execute_result"
    }
   ],
   "source": [
    "import pyLDAvis\n",
    "import pyLDAvis.gensim as gensimvis\n",
    "prepared_data = gensimvis.prepare(new_model, bi_corpus, id2word)\n",
    "pyLDAvis.display(prepared_data)"
   ]
  }
 ],
 "metadata": {
  "kernelspec": {
   "display_name": "Python 3",
   "language": "python",
   "name": "python3"
  },
  "language_info": {
   "codemirror_mode": {
    "name": "ipython",
    "version": 3
   },
   "file_extension": ".py",
   "mimetype": "text/x-python",
   "name": "python",
   "nbconvert_exporter": "python",
   "pygments_lexer": "ipython3",
   "version": "3.6.9"
  }
 },
 "nbformat": 4,
 "nbformat_minor": 4
}
