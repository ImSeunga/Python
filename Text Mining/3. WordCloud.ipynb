{
 "cells": [
  {
   "cell_type": "markdown",
   "metadata": {},
   "source": [
    "# < 단어 빈도 워드클라우드 >"
   ]
  },
  {
   "cell_type": "code",
   "metadata": {},
   "outputs": [],
   "source": [
    "# 경고 메시지 무시\n",
    "import warnings\n",
    "warnings.filterwarnings(\"ignore\")"
   ]
  },
  {
   "cell_type": "markdown",
   "metadata": {},
   "source": [
    "## 1. 데이터 로드"
   ]
  },
  {
   "cell_type": "code",
   "metadata": {},
   "outputs": [
    {
     "data": {
      "text/plain": [
       "[['고급', '장난감', '텐트', '반지하', '가구'],\n",
       " ['최근', '영화', '충격'],\n",
       " ['지하철', '단어', '언급', '순간', '대다수', '관객', '자신', '어디', '이입']]"
      ]
     },
     "metadata": {},
     "output_type": "execute_result"
    }
   ],
   "source": [
    "# 분리 구분 기호로 데이터 분리\n",
    "def read_txt(filename, sep=''):\n",
    "    str = ''\n",
    "    file = open(filename, 'r')\n",
    "    str = file.readlines()\n",
    "    for i in range(0,len(str)):\n",
    "        str[i] = str[i].strip().split(sep)\n",
    "    return(str)\n",
    "    file.close()\n",
    "    \n",
    "corpus = read_txt('outputs/corpus.txt',',')\n",
    "corpus[:3]"
   ]
  },
  {
   "cell_type": "markdown",
   "metadata": {},
   "source": [
    "## 2. 단어 정제"
   ]
  },
  {
   "cell_type": "code",
   "metadata": {},
   "outputs": [],
   "source": [
    "import re\n",
    "\n",
    "# 바꾸기\n",
    "clean_corpus = [[re.sub('^봉$','봉준호',noun_) for noun_ in nouns] for nouns in corpus]\n",
    "\n",
    "# 제거\n",
    "clean_corpus = [[noun_ for noun_ in nouns if noun_ != \"영화\"] for nouns in clean_corpus]\n",
    "clean_corpus = [[noun_ for noun_ in nouns if noun_ != \"관람객\"] for nouns in clean_corpus]\n",
    "\n",
    "# 불용어 삭제\n",
    "f = open(\"data/stopwords_list.txt\", 'r', encoding='CP949')\n",
    "line = [line.rstrip() for line in f.readlines()]\n",
    "\n",
    "for i in range(len(line)):\n",
    "    clean_corpus = [[noun_ for noun_ in nouns if noun_ != line[i]] for nouns in clean_corpus]"
   ]
  },
  {
   "cell_type": "code",
   "metadata": {},
   "outputs": [
    {
     "data": {
      "text/plain": [
       "[['고급', '장난감', '텐트', '반지하', '가구'],\n",
       " ['최근', '충격'],\n",
       " ['지하철', '단어', '언급', '순간', '대다수', '관객', '이입']]"
      ]
     },
     "metadata": {},
     "output_type": "execute_result"
    }
   ],
   "source": [
    "clean_corpus[:3]"
   ]
  },
  {
   "cell_type": "markdown",
   "metadata": {},
   "source": [
    "## 3. 단어 빈도 수"
   ]
  },
  {
   "cell_type": "code",
   "metadata": {},
   "outputs": [
    {
     "data": {
      "text/html": [
       "<div>\n",
       "<style scoped>\n",
       "    .dataframe tbody tr th:only-of-type {\n",
       "        vertical-align: middle;\n",
       "    }\n",
       "\n",
       "    .dataframe tbody tr th {\n",
       "        vertical-align: top;\n",
       "    }\n",
       "\n",
       "    .dataframe thead th {\n",
       "        text-align: right;\n",
       "    }\n",
       "</style>\n",
       "<table border=\"1\" class=\"dataframe\">\n",
       "  <thead>\n",
       "    <tr style=\"text-align: right;\">\n",
       "      <th></th>\n",
       "      <th>word</th>\n",
       "      <th>count</th>\n",
       "    </tr>\n",
       "  </thead>\n",
       "  <tbody>\n",
       "    <tr>\n",
       "      <th>0</th>\n",
       "      <td>생각</td>\n",
       "      <td>2981</td>\n",
       "    </tr>\n",
       "    <tr>\n",
       "      <th>1</th>\n",
       "      <td>봉준호</td>\n",
       "      <td>2410</td>\n",
       "    </tr>\n",
       "    <tr>\n",
       "      <th>2</th>\n",
       "      <td>감독</td>\n",
       "      <td>2145</td>\n",
       "    </tr>\n",
       "    <tr>\n",
       "      <th>3</th>\n",
       "      <td>기생충</td>\n",
       "      <td>1782</td>\n",
       "    </tr>\n",
       "    <tr>\n",
       "      <th>4</th>\n",
       "      <td>사람</td>\n",
       "      <td>1761</td>\n",
       "    </tr>\n",
       "    <tr>\n",
       "      <th>5</th>\n",
       "      <td>최고</td>\n",
       "      <td>1685</td>\n",
       "    </tr>\n",
       "    <tr>\n",
       "      <th>6</th>\n",
       "      <td>현실</td>\n",
       "      <td>1376</td>\n",
       "    </tr>\n",
       "    <tr>\n",
       "      <th>7</th>\n",
       "      <td>연기</td>\n",
       "      <td>1230</td>\n",
       "    </tr>\n",
       "    <tr>\n",
       "      <th>8</th>\n",
       "      <td>기분</td>\n",
       "      <td>1116</td>\n",
       "    </tr>\n",
       "    <tr>\n",
       "      <th>9</th>\n",
       "      <td>장면</td>\n",
       "      <td>1065</td>\n",
       "    </tr>\n",
       "  </tbody>\n",
       "</table>\n",
       "</div>"
      ],
      "text/plain": [
       "  word  count\n",
       "0   생각   2981\n",
       "1  봉준호   2410\n",
       "2   감독   2145\n",
       "3  기생충   1782\n",
       "4   사람   1761\n",
       "5   최고   1685\n",
       "6   현실   1376\n",
       "7   연기   1230\n",
       "8   기분   1116\n",
       "9   장면   1065"
      ]
     },
     "metadata": {},
     "output_type": "execute_result"
    }
   ],
   "source": [
    "import pandas as pd\n",
    "\n",
    "# 단어 카운트 함수\n",
    "def count_noun(data):\n",
    "    t_noun = list()\n",
    "    \n",
    "    for _ in data:\n",
    "        t_noun.extend(_)\n",
    "    \n",
    "    t_noun_s = pd.DataFrame(t_noun, columns=['word'])\n",
    "    t_noun_f = t_noun_s.groupby('word').size().reset_index(name='count').sort_values(['count'], ascending=False).reset_index(drop=True)\n",
    "    \n",
    "    return t_noun_f\n",
    "\n",
    "# 단어 카운트\n",
    "frq_corpus = count_noun(clean_corpus)\n",
    "frq_corpus[:10]"
   ]
  },
  {
   "cell_type": "markdown",
   "metadata": {},
   "source": [
    "## 4. TF-IDF"
   ]
  },
  {
   "cell_type": "code",
   "metadata": {},
   "outputs": [],
   "source": [
    "# 텍스트 정제 함수\n",
    "def preprocessing_text(data):\n",
    "    url = \"(https?://)?(www.)?[a-zA-Z0-9./?=&-_]+[.]?[/][a-zA-Z0-9./?=&-_%]+\"\n",
    "    email = \"[-_.+a-zA-Z0-9]+[@].+[.][[a-zA-Z0-9]+|[a-zA-Z0-9]+[.][a-zA-Z0-9]+]\"\n",
    "    \n",
    "    for i in range(len(data)):\n",
    "        data[i] = re.sub(url,\"\", data[i])\n",
    "        data[i] = re.sub(email,\"\", data[i])\n",
    "        data[i] = re.sub(\"[^가-힣a-zA-Z ]\",\"\", data[i])\n",
    "        data[i] = data[i].lower()\n",
    "    return data"
   ]
  },
  {
   "cell_type": "code",
   "metadata": {},
   "outputs": [
    {
     "data": {
      "text/plain": [
       "0                                        고급 장난감 텐트 반지하 가구\n",
       "1                                                   최근 충격\n",
       "2                                  지하철 단어 언급 순간 대다수 관객 이입\n",
       "3                                               가정부 장르 역대\n",
       "4                                          황금종려상 수상 자막 자체\n",
       "                               ...                       \n",
       "35756                                               이게 재미\n",
       "35757                                                    \n",
       "35758                                       스포일러 포함 상평 상평\n",
       "35759                                       전형 사회주의 선전 선동\n",
       "35760    네임 장기 상영 희대 거품 평론가 극찬 정상 조여정 졸지 주연 시대 박소담 최우식 몸값\n",
       "Length: 35761, dtype: object"
      ]
     },
     "metadata": {},
     "output_type": "execute_result"
    }
   ],
   "source": [
    "# 자료 형태 변환하기\n",
    "clean_corpus_unlist = [[\" \".join(nouns)] for nouns in clean_corpus]\n",
    "clean_corpus_str = preprocessing_text(pd.Series(clean_corpus_unlist).astype('str'))\n",
    "clean_corpus_str"
   ]
  },
  {
   "cell_type": "code",
   "metadata": {},
   "outputs": [
    {
     "name": "stdout",
     "output_type": "stream",
     "text": [
      "가장 낮은 TF-IDF를 가진 특성:\n",
      " ['격차' '가난' '이해' '이정은' '이유' '이야기' '이선균' '이게' '이건' '의미' '완벽' '오랜만' '예술'\n",
      " '영화제' '영화관' '연출' '연기력' '연기' '여운' '스토리' '순간' '수상' '송강호' '인간' '인생' '자체'\n",
      " '작품' '해석' '한국' '필요' '표현' '평점' '코미디' '충격' '추천' '최고' '초반' '천재' '처음' '지하'\n",
      " '중간' '조여정' '제목' '정도' '전개' '재미' '장면' '장르' '소재' '소름']\n",
      "가장 높은 TF-IDF를 가진 특성:\n",
      " ['세상' '생각' '누군가' '냄새' '내용' '나라' '긴장감' '기생충' '기생' '기분' '기대' '관람' '관객' '공감'\n",
      " '계획' '계급' '결말' '개인' '감정' '감독' '가지' '가족' '가슴' '느낌' '현실' '대박' '마음' '상평'\n",
      " '상징' '살인' '사회' '사람' '빈부' '블랙' '불편' '부자' '부분' '봉준호' '배우' '반지하' '반전' '박수'\n",
      " '뭔가' '몰입' '모습' '명작' '머리' '마지막' '등급' '황금종려상']\n"
     ]
    }
   ],
   "source": [
    "import numpy as np\n",
    "\n",
    "# TF-IDF\n",
    "from sklearn.feature_extraction.text import TfidfVectorizer\n",
    "tfidf = TfidfVectorizer(max_features = 100, max_df=0.95, min_df=0).fit(frq_corpus)\n",
    "\n",
    "#generate tf-idf term-document matrix\n",
    "A_tfidf_sp = tfidf.fit_transform(clean_corpus_str)\n",
    "max_value = A_tfidf_sp.max(axis=0).toarray().ravel()\n",
    "sorted_by_tfidf = max_value.argsort()\n",
    "tfidf_dict = np.array(tfidf.get_feature_names())\n",
    "\n",
    "print(\"가장 낮은 TF-IDF를 가진 특성:\\n\", tfidf_dict[sorted_by_tfidf[:50]])\n",
    "print(\"가장 높은 TF-IDF를 가진 특성:\\n\", tfidf_dict[sorted_by_tfidf[-50:]])"
   ]
  },
  {
   "cell_type": "markdown",
   "metadata": {},
   "source": [
    "### TF-IDF 낮은 단어 제거"
   ]
  },
  {
   "cell_type": "code",
   "metadata": {},
   "outputs": [
    {
     "data": {
      "text/html": [
       "<div>\n",
       "<style scoped>\n",
       "    .dataframe tbody tr th:only-of-type {\n",
       "        vertical-align: middle;\n",
       "    }\n",
       "\n",
       "    .dataframe tbody tr th {\n",
       "        vertical-align: top;\n",
       "    }\n",
       "\n",
       "    .dataframe thead th {\n",
       "        text-align: right;\n",
       "    }\n",
       "</style>\n",
       "<table border=\"1\" class=\"dataframe\">\n",
       "  <thead>\n",
       "    <tr style=\"text-align: right;\">\n",
       "      <th></th>\n",
       "      <th>word</th>\n",
       "      <th>count</th>\n",
       "    </tr>\n",
       "  </thead>\n",
       "  <tbody>\n",
       "    <tr>\n",
       "      <th>0</th>\n",
       "      <td>생각</td>\n",
       "      <td>2981</td>\n",
       "    </tr>\n",
       "    <tr>\n",
       "      <th>1</th>\n",
       "      <td>봉준호</td>\n",
       "      <td>2410</td>\n",
       "    </tr>\n",
       "    <tr>\n",
       "      <th>2</th>\n",
       "      <td>감독</td>\n",
       "      <td>2145</td>\n",
       "    </tr>\n",
       "    <tr>\n",
       "      <th>3</th>\n",
       "      <td>기생충</td>\n",
       "      <td>1782</td>\n",
       "    </tr>\n",
       "    <tr>\n",
       "      <th>4</th>\n",
       "      <td>사람</td>\n",
       "      <td>1761</td>\n",
       "    </tr>\n",
       "    <tr>\n",
       "      <th>5</th>\n",
       "      <td>현실</td>\n",
       "      <td>1376</td>\n",
       "    </tr>\n",
       "    <tr>\n",
       "      <th>6</th>\n",
       "      <td>기분</td>\n",
       "      <td>1116</td>\n",
       "    </tr>\n",
       "    <tr>\n",
       "      <th>7</th>\n",
       "      <td>가족</td>\n",
       "      <td>983</td>\n",
       "    </tr>\n",
       "    <tr>\n",
       "      <th>8</th>\n",
       "      <td>냄새</td>\n",
       "      <td>964</td>\n",
       "    </tr>\n",
       "    <tr>\n",
       "      <th>9</th>\n",
       "      <td>배우</td>\n",
       "      <td>863</td>\n",
       "    </tr>\n",
       "  </tbody>\n",
       "</table>\n",
       "</div>"
      ],
      "text/plain": [
       "  word  count\n",
       "0   생각   2981\n",
       "1  봉준호   2410\n",
       "2   감독   2145\n",
       "3  기생충   1782\n",
       "4   사람   1761\n",
       "5   현실   1376\n",
       "6   기분   1116\n",
       "7   가족    983\n",
       "8   냄새    964\n",
       "9   배우    863"
      ]
     },
     "metadata": {},
     "output_type": "execute_result"
    }
   ],
   "source": [
    "no_low = [[noun_ for noun_ in nouns if noun_ not in list(tfidf_dict[sorted_by_tfidf[:50]])] for nouns in clean_corpus]\n",
    "frq_noun = count_noun(no_low)\n",
    "frq_noun[:10]"
   ]
  },
  {
   "cell_type": "markdown",
   "metadata": {},
   "source": [
    "# 5. 워드클라우드"
   ]
  },
  {
   "cell_type": "code",
   "metadata": {},
   "outputs": [
    {
     "data": {
      "text/plain": [
       "{'생각': 2981,\n",
       " '봉준호': 2410,\n",
       " '감독': 2145,\n",
       " '기생충': 1782,\n",
       " '사람': 1761,\n",
       " '현실': 1376,\n",
       " '기분': 1116,\n",
       " '가족': 983,\n",
       " '냄새': 964,\n",
       " '배우': 863,\n",
       " '기대': 851,\n",
       " '사회': 816,\n",
       " '불편': 802,\n",
       " '내용': 755,\n",
       " '계획': 685,\n",
       " '느낌': 643,\n",
       " '부자': 507,\n",
       " '몰입': 490,\n",
       " '마음': 487,\n",
       " '마지막': 472,\n",
       " '황금종려상': 459,\n",
       " '관람': 436,\n",
       " '뭔가': 420,\n",
       " '반지하': 417,\n",
       " '가슴': 363,\n",
       " '빈부': 358,\n",
       " '살인': 338,\n",
       " '반전': 328,\n",
       " '관객': 324,\n",
       " '결말': 316}"
      ]
     },
     "metadata": {},
     "output_type": "execute_result"
    }
   ],
   "source": [
    "word_dict = dict()\n",
    "for i in range(30):\n",
    "    word_dict[frq_noun['word'][i]] = frq_noun['count'][i]\n",
    "word_dict"
   ]
  },
  {
   "cell_type": "code",
   "metadata": {},
   "outputs": [
    {
     "data": {
      "text/plain": [
       "<matplotlib.image.AxesImage at 0x7f31e5f92fd0>"
      ]
     },
     "metadata": {},
     "output_type": "execute_result"
    },
    {
     "data": {
      "image/png": "[encoded data removed]",
      "text/plain": [
       "<Figure size 720x576 with 1 Axes>"
      ]
     },
     "metadata": {
      "needs_background": "light"
     },
     "output_type": "display_data"
    }
   ],
   "source": [
    "from wordcloud import WordCloud\n",
    "from PIL import Image\n",
    "import requests\n",
    "import matplotlib.pyplot as plt\n",
    "\n",
    "font_path = 'data/NotoSansCJKkr-Bold.otf'\n",
    "url = 'https://banner2.cleanpng.com/20180328/soe/kisspng-circle-blue-shape-ball-clip-art-blue-5abb7206ab0a24.8045066715222338627006.jpg'\n",
    "\n",
    "mask = np.array(Image.open(requests.get(url, stream=True).raw))\n",
    "\n",
    "%matplotlib inline\n",
    "wc = WordCloud(font_path = font_path,\n",
    "               min_font_size = .5,\n",
    "               colormap = 'Dark2',\n",
    "               background_color='white', \n",
    "               width=800,\n",
    "               height=800,\n",
    "               mask = mask)\n",
    "\n",
    "cloud = wc.generate_from_frequencies(word_dict)\n",
    "plt.figure(figsize=(10,8))\n",
    "plt.axis('off')\n",
    "plt.imshow(cloud)"
   ]
  }
 ],
 "metadata": {
  "kernelspec": {
   "display_name": "Python 3",
   "language": "python",
   "name": "python3"
  },
  "language_info": {
   "codemirror_mode": {
    "name": "ipython",
    "version": 3
   },
   "file_extension": ".py",
   "mimetype": "text/x-python",
   "name": "python",
   "nbconvert_exporter": "python",
   "pygments_lexer": "ipython3",
   "version": "3.6.9"
  }
 },
 "nbformat": 4,
 "nbformat_minor": 4
}
