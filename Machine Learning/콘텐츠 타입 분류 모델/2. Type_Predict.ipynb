{
 "cells": [
  {
   "cell_type": "markdown",
   "metadata": {},
   "source": [
    "# < Contents Type Predict >"
   ]
  },
  {
   "cell_type": "code",
   "metadata": {},
   "outputs": [],
   "source": [
    "# 경고 메시지 무시\n",
    "import warnings\n",
    "warnings.filterwarnings(\"ignore\")"
   ]
  },
  {
   "cell_type": "markdown",
   "metadata": {},
   "source": [
    "## 1. 데이터 로드"
   ]
  },
  {
   "cell_type": "code",
   "metadata": {},
   "outputs": [
    {
     "data": {
      "text/html": [
       "<div>\n",
       "<style scoped>\n",
       "    .dataframe tbody tr th:only-of-type {\n",
       "        vertical-align: middle;\n",
       "    }\n",
       "\n",
       "    .dataframe tbody tr th {\n",
       "        vertical-align: top;\n",
       "    }\n",
       "\n",
       "    .dataframe thead th {\n",
       "        text-align: right;\n",
       "    }\n",
       "</style>\n",
       "<table border=\"1\" class=\"dataframe\">\n",
       "  <thead>\n",
       "    <tr style=\"text-align: right;\">\n",
       "      <th></th>\n",
       "      <th>keyword</th>\n",
       "      <th>site</th>\n",
       "      <th>date</th>\n",
       "      <th>title</th>\n",
       "      <th>username</th>\n",
       "      <th>content</th>\n",
       "      <th>click</th>\n",
       "      <th>link</th>\n",
       "    </tr>\n",
       "  </thead>\n",
       "  <tbody>\n",
       "    <tr>\n",
       "      <th>0</th>\n",
       "      <td>릴리바이레드 무스틴트</td>\n",
       "      <td>naverBlog</td>\n",
       "      <td>2019-08-01</td>\n",
       "      <td>미샤 트리플 섀도우 8호 오렌지 퍼레이드</td>\n",
       "      <td>왼쪽정강이</td>\n",
       "      <td>미샤 트리플 섀도우 8호 오렌지 퍼레이드​​전에 미샤 워터틴트를 사며 같이 구매했던...</td>\n",
       "      <td>NaN</td>\n",
       "      <td>https://m.blog.naver.com/helena7463/221591237054</td>\n",
       "    </tr>\n",
       "    <tr>\n",
       "      <th>1</th>\n",
       "      <td>릴리바이레드 무스틴트</td>\n",
       "      <td>naverBlog</td>\n",
       "      <td>2019-08-01</td>\n",
       "      <td>[공지] 올리브영 웜톤틴트 추천!릴리바이레드 무드 라이어 벨벳 틴트 04 그윽한 홍시인척</td>\n",
       "      <td>이블린</td>\n",
       "      <td>​#릴리바이레드 무드 라이어 벨벳 틴트04 그윽한 홍시인척-본 포스팅은 직접 구매후...</td>\n",
       "      <td>NaN</td>\n",
       "      <td>https://m.blog.naver.com/gksquf9506?Redirect=L...</td>\n",
       "    </tr>\n",
       "    <tr>\n",
       "      <th>2</th>\n",
       "      <td>릴리바이레드 무스틴트</td>\n",
       "      <td>naverBlog</td>\n",
       "      <td>2019-08-01</td>\n",
       "      <td>[일상] 당일치기 경주여행</td>\n",
       "      <td>영주</td>\n",
       "      <td>날씨가 너무 더워서 조금만 걸어도 땀이 나는 요즘 오빠랑 시밀러룩 찍은지 너무 오래...</td>\n",
       "      <td>NaN</td>\n",
       "      <td>https://m.blog.naver.com/love960814/221602350784</td>\n",
       "    </tr>\n",
       "  </tbody>\n",
       "</table>\n",
       "</div>"
      ],
      "text/plain": [
       "       keyword       site       date  \\\n",
       "0  릴리바이레드 무스틴트  naverBlog 2019-08-01   \n",
       "1  릴리바이레드 무스틴트  naverBlog 2019-08-01   \n",
       "2  릴리바이레드 무스틴트  naverBlog 2019-08-01   \n",
       "\n",
       "                                               title username  \\\n",
       "0                             미샤 트리플 섀도우 8호 오렌지 퍼레이드    왼쪽정강이   \n",
       "1  [공지] 올리브영 웜톤틴트 추천!릴리바이레드 무드 라이어 벨벳 틴트 04 그윽한 홍시인척      이블린   \n",
       "2                                     [일상] 당일치기 경주여행       영주   \n",
       "\n",
       "                                             content  click  \\\n",
       "0  미샤 트리플 섀도우 8호 오렌지 퍼레이드​​전에 미샤 워터틴트를 사며 같이 구매했던...    NaN   \n",
       "1  ​#릴리바이레드 무드 라이어 벨벳 틴트04 그윽한 홍시인척-본 포스팅은 직접 구매후...    NaN   \n",
       "2  날씨가 너무 더워서 조금만 걸어도 땀이 나는 요즘 오빠랑 시밀러룩 찍은지 너무 오래...    NaN   \n",
       "\n",
       "                                                link  \n",
       "0   https://m.blog.naver.com/helena7463/221591237054  \n",
       "1  https://m.blog.naver.com/gksquf9506?Redirect=L...  \n",
       "2   https://m.blog.naver.com/love960814/221602350784  "
      ]
     },
     "metadata": {},
     "output_type": "execute_result"
    }
   ],
   "source": [
    "import pandas as pd\n",
    "\n",
    "# 데이터 로드\n",
    "raw = pd.read_excel('data/lilybyred_무스틴트_v1.xlsx')\n",
    "\n",
    "# 데이터 확인\n",
    "raw[:3]"
   ]
  },
  {
   "cell_type": "code",
   "metadata": {},
   "outputs": [
    {
     "data": {
      "text/plain": [
       "0       미샤 트리플 섀도우 8호 오렌지 퍼레이드​​전에 미샤 워터틴트를 사며 같이 구매했던...\n",
       "1       ​#릴리바이레드 무드 라이어 벨벳 틴트04 그윽한 홍시인척-본 포스팅은 직접 구매후...\n",
       "2       날씨가 너무 더워서 조금만 걸어도 땀이 나는 요즘 오빠랑 시밀러룩 찍은지 너무 오래...\n",
       "3       아임미미 미스터리 볼륨 틴트005 미스터리 비트미미박스 체험단으로 사용해본 제품입니...\n",
       "4       종강한 나를 반겨주듯이 ​​​​여름이 성큼 다가왔다 ​​​​갑자기 더워진 바람이 낯...\n",
       "                              ...                        \n",
       "1035    릴리바이레드 앙큼 라이어 코팅틴트 4g 수줍은 복숭아인척 1개제품 보러가기5720원...\n",
       "1036    ​벌써 흘러가버린 2020년 1월 한달과 함께참 한결같은 소똥히의 소비패턴 관찰하기...\n",
       "1037    안녕하세요 뷰티블로거 프롬조제예요 :)색조 장인 릴리바이레드에서 신상 소식이 들려와...\n",
       "1038     안녕하세요 뷰스타 다랑입니다 :)오늘은 릴리바이레드에서 새롭게 출시하는아이브로우를...\n",
       "1039    ​​안녕하세요 노루군입니다.한동안 잡지부록을 소개해드린 적이 없었는데이번에 알라딘 ...\n",
       "Name: content, Length: 1040, dtype: object"
      ]
     },
     "metadata": {},
     "output_type": "execute_result"
    }
   ],
   "source": [
    "# 데이터 선택\n",
    "data = raw[\"content\"].dropna().reset_index(drop = True)\n",
    "data"
   ]
  },
  {
   "cell_type": "markdown",
   "metadata": {},
   "source": [
    "## 2. 데이터 전처리\n",
    "### 1) 텍스트 정제  \n",
    "**: 숫자, 대소문자 통일, 이모티콘, 링크, 이메일 제거**"
   ]
  },
  {
   "cell_type": "code",
   "metadata": {},
   "outputs": [],
   "source": [
    "import re\n",
    "\n",
    "# 텍스트 정제 함수\n",
    "def preprocessing_text(data):\n",
    "    url = \"(https?://)?(www.)?[a-zA-Z0-9./?=&-_]+[.]?[/][a-zA-Z0-9./?=&-_%]+\"\n",
    "    email = \"[-_.+a-zA-Z0-9]+[@].+[.][[a-zA-Z0-9]+|[a-zA-Z0-9]+[.][a-zA-Z0-9]+]\"\n",
    "    \n",
    "    for i in range(len(data)):\n",
    "        data[i] = re.sub(url,\"\", data[i])\n",
    "        data[i] = re.sub(email,\"\", data[i])\n",
    "        data[i] = re.sub(\"[^가-힣a-zA-Z ]\",\"\", data[i])\n",
    "        data[i] = data[i].lower()\n",
    "    return data\n",
    "\n",
    "# 텍스트 정제\n",
    "clean_text = preprocessing_text(data)"
   ]
  },
  {
   "cell_type": "markdown",
   "metadata": {},
   "source": [
    "### 2) 형태소 추출 _Mecab"
   ]
  },
  {
   "cell_type": "code",
   "metadata": {},
   "outputs": [
    {
     "name": "stderr",
     "output_type": "stream",
     "text": [
      "100%|██████████| 1040/1040 [00:03<00:00, 305.23it/s]\n"
     ]
    }
   ],
   "source": [
    "# 형태소 분석기 Mecab\n",
    "from konlpy.tag import Mecab\n",
    "mecab = Mecab()\n",
    "\n",
    "# mecab.morphs(clean_text[0])\n",
    "\n",
    "# 명사만 추출\n",
    "# mecab.nouns(data)\n",
    "\n",
    "# 품사 포함 추출\n",
    "# mecab.pos(clean_text[0],flatten=True)\n",
    "\n",
    "# 형태소 분석\n",
    "from tqdm import tqdm\n",
    "\n",
    "corpus = []\n",
    "\n",
    "for i in tqdm(range(len(clean_text))):\n",
    "    sen = mecab.nouns(clean_text[i])\n",
    "    sen = [word for word in sen if len(word) > 1] #1글자 이상만 추출\n",
    "    corpus.append(sen)"
   ]
  },
  {
   "cell_type": "markdown",
   "metadata": {},
   "source": [
    "**형태소 추출이 끝나면 꼭 형태소 리스트 수와 데이터 수를 비교**  \n",
    "**형태소 리스트 수와 데이터 수가 같아야 나중에 학습한 이후에 데이터를 통합할 수 있다.**"
   ]
  },
  {
   "cell_type": "code",
   "metadata": {},
   "outputs": [
    {
     "data": {
      "text/plain": [
       "(1040, 1040)"
      ]
     },
     "metadata": {},
     "output_type": "execute_result"
    }
   ],
   "source": [
    "len(data), len(corpus)"
   ]
  },
  {
   "cell_type": "markdown",
   "metadata": {},
   "source": [
    "### 3) 단어 정제  \n",
    "**: 동음이의어, 불완전하게 추출된 형태소 처리**"
   ]
  },
  {
   "cell_type": "code",
   "metadata": {},
   "outputs": [],
   "source": [
    "# 바꾸기\n",
    "clean_corpus = [[re.sub('^리바이$','릴리바이레드',noun_) for noun_ in nouns] for nouns in corpus]\n",
    "\n",
    "# 제거\n",
    "clean_corpus = [[noun_ for noun_ in nouns if noun_ != \"레드\"] for nouns in clean_corpus]\n",
    "clean_corpus = [[noun_ for noun_ in nouns if noun_ != \"틴트\"] for nouns in clean_corpus]\n",
    "\n",
    "# 불용어 삭제\n",
    "f = open(\"data/stopwords_list.txt\", 'r', encoding='CP949')\n",
    "line = [line.rstrip() for line in f.readlines()]\n",
    "\n",
    "for i in range(len(line)):\n",
    "    clean_corpus = [[noun_ for noun_ in nouns if noun_ != line[i]] for nouns in clean_corpus]"
   ]
  },
  {
   "cell_type": "code",
   "metadata": {},
   "outputs": [
    {
     "data": {
      "text/html": [
       "<div>\n",
       "<style scoped>\n",
       "    .dataframe tbody tr th:only-of-type {\n",
       "        vertical-align: middle;\n",
       "    }\n",
       "\n",
       "    .dataframe tbody tr th {\n",
       "        vertical-align: top;\n",
       "    }\n",
       "\n",
       "    .dataframe thead th {\n",
       "        text-align: right;\n",
       "    }\n",
       "</style>\n",
       "<table border=\"1\" class=\"dataframe\">\n",
       "  <thead>\n",
       "    <tr style=\"text-align: right;\">\n",
       "      <th></th>\n",
       "      <th>word</th>\n",
       "      <th>count</th>\n",
       "    </tr>\n",
       "  </thead>\n",
       "  <tbody>\n",
       "    <tr>\n",
       "      <th>0</th>\n",
       "      <td>구매</td>\n",
       "      <td>4277</td>\n",
       "    </tr>\n",
       "    <tr>\n",
       "      <th>1</th>\n",
       "      <td>컬러</td>\n",
       "      <td>3145</td>\n",
       "    </tr>\n",
       "    <tr>\n",
       "      <th>2</th>\n",
       "      <td>이미지</td>\n",
       "      <td>3036</td>\n",
       "    </tr>\n",
       "    <tr>\n",
       "      <th>3</th>\n",
       "      <td>페이지</td>\n",
       "      <td>2998</td>\n",
       "    </tr>\n",
       "    <tr>\n",
       "      <th>4</th>\n",
       "      <td>클릭</td>\n",
       "      <td>2977</td>\n",
       "    </tr>\n",
       "    <tr>\n",
       "      <th>5</th>\n",
       "      <td>제품</td>\n",
       "      <td>2509</td>\n",
       "    </tr>\n",
       "    <tr>\n",
       "      <th>6</th>\n",
       "      <td>릴리바이레드</td>\n",
       "      <td>2419</td>\n",
       "    </tr>\n",
       "    <tr>\n",
       "      <th>7</th>\n",
       "      <td>사용</td>\n",
       "      <td>1705</td>\n",
       "    </tr>\n",
       "    <tr>\n",
       "      <th>8</th>\n",
       "      <td>핑크</td>\n",
       "      <td>1540</td>\n",
       "    </tr>\n",
       "    <tr>\n",
       "      <th>9</th>\n",
       "      <td>발색</td>\n",
       "      <td>1423</td>\n",
       "    </tr>\n",
       "  </tbody>\n",
       "</table>\n",
       "</div>"
      ],
      "text/plain": [
       "     word  count\n",
       "0      구매   4277\n",
       "1      컬러   3145\n",
       "2     이미지   3036\n",
       "3     페이지   2998\n",
       "4      클릭   2977\n",
       "5      제품   2509\n",
       "6  릴리바이레드   2419\n",
       "7      사용   1705\n",
       "8      핑크   1540\n",
       "9      발색   1423"
      ]
     },
     "metadata": {},
     "output_type": "execute_result"
    }
   ],
   "source": [
    "# 단어 카운트 함수\n",
    "def count_noun(data):\n",
    "    t_noun = list()\n",
    "    \n",
    "    for _ in data:\n",
    "        t_noun.extend(_)\n",
    "    \n",
    "    t_noun_s = pd.DataFrame(t_noun, columns=['word'])\n",
    "    t_noun_f = t_noun_s.groupby('word').size().reset_index(name='count').sort_values(['count'], ascending=False).reset_index(drop=True)\n",
    "    \n",
    "    return t_noun_f\n",
    "\n",
    "# 단어 카운트\n",
    "frq_corpus = count_noun(clean_corpus)\n",
    "frq_corpus[:10]"
   ]
  },
  {
   "cell_type": "markdown",
   "metadata": {},
   "source": [
    "### 4) 단어 임베딩  \n",
    "**: 문자를 숫자로 바꾸는 과정**"
   ]
  },
  {
   "cell_type": "code",
   "metadata": {},
   "outputs": [
    {
     "data": {
      "text/plain": [
       "array([[  197,   298,    22, ...,     0,     0,     0],\n",
       "       [    9,     3,    47, ...,     0,     0,     0],\n",
       "       [  432,   153,   262, ...,     0,     0,     0],\n",
       "       ...,\n",
       "       [  134,    60,   852, ...,     0,     0,     0],\n",
       "       [  134,   603, 16704, ...,     0,     0,     0],\n",
       "       [  134, 16709,  1974, ...,     0,     0,     0]], dtype=int32)"
      ]
     },
     "metadata": {},
     "output_type": "execute_result"
    }
   ],
   "source": [
    "from tensorflow.python.keras.preprocessing.sequence import pad_sequences\n",
    "from tensorflow.python.keras.preprocessing.text import Tokenizer\n",
    "tokenizer = Tokenizer()\n",
    "tokenizer.fit_on_texts(corpus)\n",
    "sequences = tokenizer.texts_to_sequences(corpus)\n",
    "\n",
    "word_vocab = tokenizer.word_index\n",
    "\n",
    "MAX_SEQUENCE_LENGTH = 3470\n",
    "word_vector = pad_sequences(sequences, maxlen=MAX_SEQUENCE_LENGTH,padding='post')\n",
    "word_vector"
   ]
  },
  {
   "cell_type": "markdown",
   "metadata": {},
   "source": [
    "## 3. 데이터 예측\n",
    "### 1) 타입 예측 모델 불러오기"
   ]
  },
  {
   "cell_type": "code",
   "metadata": {},
   "outputs": [],
   "source": [
    "from sklearn.externals import joblib\n",
    "clf = joblib.load('type_modeling.pkl')"
   ]
  },
  {
   "cell_type": "markdown",
   "metadata": {},
   "source": [
    "### 2) 타입 예측하기"
   ]
  },
  {
   "cell_type": "code",
   "metadata": {},
   "outputs": [],
   "source": [
    "type_hat = clf.predict(word_vector)"
   ]
  },
  {
   "cell_type": "markdown",
   "metadata": {},
   "source": [
    "### 3) 예측한 값을 데이터에 넣기"
   ]
  },
  {
   "cell_type": "code",
   "metadata": {},
   "outputs": [
    {
     "data": {
      "text/html": [
       "<div>\n",
       "<style scoped>\n",
       "    .dataframe tbody tr th:only-of-type {\n",
       "        vertical-align: middle;\n",
       "    }\n",
       "\n",
       "    .dataframe tbody tr th {\n",
       "        vertical-align: top;\n",
       "    }\n",
       "\n",
       "    .dataframe thead th {\n",
       "        text-align: right;\n",
       "    }\n",
       "</style>\n",
       "<table border=\"1\" class=\"dataframe\">\n",
       "  <thead>\n",
       "    <tr style=\"text-align: right;\">\n",
       "      <th></th>\n",
       "      <th>keyword</th>\n",
       "      <th>site</th>\n",
       "      <th>date</th>\n",
       "      <th>title</th>\n",
       "      <th>username</th>\n",
       "      <th>content</th>\n",
       "      <th>click</th>\n",
       "      <th>link</th>\n",
       "      <th>type</th>\n",
       "    </tr>\n",
       "  </thead>\n",
       "  <tbody>\n",
       "    <tr>\n",
       "      <th>0</th>\n",
       "      <td>릴리바이레드 무스틴트</td>\n",
       "      <td>naverBlog</td>\n",
       "      <td>2019-08-01</td>\n",
       "      <td>미샤 트리플 섀도우 8호 오렌지 퍼레이드</td>\n",
       "      <td>왼쪽정강이</td>\n",
       "      <td>미샤 트리플 섀도우 8호 오렌지 퍼레이드​​전에 미샤 워터틴트를 사며 같이 구매했던...</td>\n",
       "      <td>NaN</td>\n",
       "      <td>https://m.blog.naver.com/helena7463/221591237054</td>\n",
       "      <td>소비자</td>\n",
       "    </tr>\n",
       "    <tr>\n",
       "      <th>1</th>\n",
       "      <td>릴리바이레드 무스틴트</td>\n",
       "      <td>naverBlog</td>\n",
       "      <td>2019-08-01</td>\n",
       "      <td>[공지] 올리브영 웜톤틴트 추천!릴리바이레드 무드 라이어 벨벳 틴트 04 그윽한 홍시인척</td>\n",
       "      <td>이블린</td>\n",
       "      <td>​#릴리바이레드 무드 라이어 벨벳 틴트04 그윽한 홍시인척-본 포스팅은 직접 구매후...</td>\n",
       "      <td>NaN</td>\n",
       "      <td>https://m.blog.naver.com/gksquf9506?Redirect=L...</td>\n",
       "      <td>소비자</td>\n",
       "    </tr>\n",
       "    <tr>\n",
       "      <th>2</th>\n",
       "      <td>릴리바이레드 무스틴트</td>\n",
       "      <td>naverBlog</td>\n",
       "      <td>2019-08-01</td>\n",
       "      <td>[일상] 당일치기 경주여행</td>\n",
       "      <td>영주</td>\n",
       "      <td>날씨가 너무 더워서 조금만 걸어도 땀이 나는 요즘 오빠랑 시밀러룩 찍은지 너무 오래...</td>\n",
       "      <td>NaN</td>\n",
       "      <td>https://m.blog.naver.com/love960814/221602350784</td>\n",
       "      <td>소비자</td>\n",
       "    </tr>\n",
       "  </tbody>\n",
       "</table>\n",
       "</div>"
      ],
      "text/plain": [
       "       keyword       site       date  \\\n",
       "0  릴리바이레드 무스틴트  naverBlog 2019-08-01   \n",
       "1  릴리바이레드 무스틴트  naverBlog 2019-08-01   \n",
       "2  릴리바이레드 무스틴트  naverBlog 2019-08-01   \n",
       "\n",
       "                                               title username  \\\n",
       "0                             미샤 트리플 섀도우 8호 오렌지 퍼레이드    왼쪽정강이   \n",
       "1  [공지] 올리브영 웜톤틴트 추천!릴리바이레드 무드 라이어 벨벳 틴트 04 그윽한 홍시인척      이블린   \n",
       "2                                     [일상] 당일치기 경주여행       영주   \n",
       "\n",
       "                                             content  click  \\\n",
       "0  미샤 트리플 섀도우 8호 오렌지 퍼레이드​​전에 미샤 워터틴트를 사며 같이 구매했던...    NaN   \n",
       "1  ​#릴리바이레드 무드 라이어 벨벳 틴트04 그윽한 홍시인척-본 포스팅은 직접 구매후...    NaN   \n",
       "2  날씨가 너무 더워서 조금만 걸어도 땀이 나는 요즘 오빠랑 시밀러룩 찍은지 너무 오래...    NaN   \n",
       "\n",
       "                                                link type  \n",
       "0   https://m.blog.naver.com/helena7463/221591237054  소비자  \n",
       "1  https://m.blog.naver.com/gksquf9506?Redirect=L...  소비자  \n",
       "2   https://m.blog.naver.com/love960814/221602350784  소비자  "
      ]
     },
     "metadata": {},
     "output_type": "execute_result"
    }
   ],
   "source": [
    "fin = raw\n",
    "c_type = {1:\"바이럴\", 2:\"소비자\"}\n",
    "fin['type'] = pd.Series(type_hat).map(c_type)\n",
    "fin[:3]"
   ]
  },
  {
   "cell_type": "markdown",
   "metadata": {},
   "source": [
    "## 4. 데이터 저장"
   ]
  },
  {
   "cell_type": "code",
   "metadata": {},
   "outputs": [],
   "source": [
    "fin.to_excel(\"lilybyred_무스틴트_v1_predict.xlsx\", encoding='utf-8', index=False)"
   ]
  }
 ],
 "metadata": {
  "kernelspec": {
   "display_name": "Python 3",
   "language": "python",
   "name": "python3"
  },
  "language_info": {
   "codemirror_mode": {
    "name": "ipython",
    "version": 3
   },
   "file_extension": ".py",
   "mimetype": "text/x-python",
   "name": "python",
   "nbconvert_exporter": "python",
   "pygments_lexer": "ipython3",
   "version": "3.6.9"
  }
 },
 "nbformat": 4,
 "nbformat_minor": 4
}
